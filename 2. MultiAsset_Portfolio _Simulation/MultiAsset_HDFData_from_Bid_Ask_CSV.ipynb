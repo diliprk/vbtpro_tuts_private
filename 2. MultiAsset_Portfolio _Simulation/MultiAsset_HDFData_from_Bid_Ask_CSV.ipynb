{
 "cells": [
  {
   "cell_type": "code",
   "execution_count": null,
   "metadata": {},
   "outputs": [],
   "source": [
    "import pandas as pd"
   ]
  },
  {
   "cell_type": "code",
   "execution_count": null,
   "metadata": {},
   "outputs": [],
   "source": [
    "def read_bid_ask_data(ask_fname : str, bid_fname : str, lowercase_columns = False, set_time_index = False):\n",
    "    \"\"\"Reads and combines the bid and ask csv files of duksascopy historical market data, into a single OHLCV dataframe.\"\"\"\n",
    "    df_ask = pd.read_csv(ask_fname, infer_datetime_format=True)\n",
    "    df_bid = pd.read_csv(bid_fname, infer_datetime_format=True)\n",
    "\n",
    "    df_avg = (df_bid[[\"Open\", \"High\", \"Low\", \"Close\", \"Volume\"]]+ df_ask[[\"Open\", \"High\", \"Low\", \"Close\", \"Volume\"]]) / 2.0\n",
    "    df_avg = df_avg[df_avg[\"Volume\"] > 0].reset_index()    \n",
    "    df_avg[\"time\"] = df_ask[\"Local time\"]\n",
    "    df_avg[\"time\"] = df_avg[\"time\"].str.replace(r\".\\d{3} GMT\\+\\d\\d\\d\\d\", '', regex = True) ## Strip ms and GMT TZ in time column\n",
    "    if \"index\" in list(df_avg):\n",
    "        print(\"index column found in dataframe, so dropping them\")\n",
    "        df_avg.drop(labels = \"index\", axis = 1, inplace = True)\n",
    "\n",
    "    if lowercase_columns:\n",
    "        df_avg.columns= df_avg.columns.str.lower()\n",
    "        \n",
    "    if set_time_index:\n",
    "        df_avg[\"time\"] = pd.to_datetime(df_avg[\"time\"],format='%d.%m.%Y %H:%M:%S')\n",
    "        df_avg = df_avg.set_index(\"time\")      \n",
    "    return df_avg"
   ]
  },
  {
   "cell_type": "code",
   "execution_count": null,
   "metadata": {},
   "outputs": [],
   "source": [
    "### DataFrame Slicing based on nr. of rows on 1m dataframe\n",
    "def slice_df_by_1m_rows(df : pd.DataFrame, nr_days_to_slice : int):\n",
    "    \"\"\"Slice the historical dataframe from most recent to the nr. of days specified\"\"\"\n",
    "    mins_per_day = 24 * 60\n",
    "    nr_days_to_slice = 365 * mins_per_day\n",
    "    df = df.iloc[-nr_days_to_slice:].reset_index(drop = True)\n",
    "    return df"
   ]
  },
  {
   "cell_type": "code",
   "execution_count": null,
   "metadata": {},
   "outputs": [],
   "source": [
    "## Specify FileNames of Bid / Ask data downloaded from DukaScopy\n",
    "bid_ask_files = {\n",
    "    \"GBPUSD\" : {\"Bid\": \"GBPUSD_Candlestick_1_M_BID_01.12.2019-01.12.2022.csv\",\n",
    "                \"Ask\": \"GBPUSD_Candlestick_1_M_ASK_01.12.2019-01.12.2022.csv\"},\n",
    "    \"EURUSD\" : {\"Bid\": \"EURUSD_Candlestick_1_M_BID_01.12.2019-01.12.2022.csv\",\n",
    "                \"Ask\": \"EURUSD_Candlestick_1_M_ASK_01.12.2019-01.12.2022.csv\"},\n",
    "    \"AUDUSD\" : {\"Bid\": \"AUDUSD_Candlestick_1_M_BID_01.12.2019-01.12.2022.csv\",\n",
    "                \"Ask\": \"AUDUSD_Candlestick_1_M_ASK_01.12.2019-01.12.2022.csv\"},\n",
    "    \"USDCAD\" : {\"Bid\": \"USDCAD_Candlestick_1_M_BID_01.12.2019-01.12.2022.csv\",\n",
    "                \"Ask\": \"USDCAD_Candlestick_1_M_ASK_01.12.2019-01.12.2022.csv\"},\n",
    "    \"USDJPY\" : {\"Bid\": \"USDJPY_Candlestick_1_M_BID_01.12.2019-01.12.2022.csv\",\n",
    "                \"Ask\": \"USDJPY_Candlestick_1_M_ASK_01.12.2019-01.12.2022.csv\"}                                                                            \n",
    "}"
   ]
  },
  {
   "cell_type": "code",
   "execution_count": null,
   "metadata": {},
   "outputs": [],
   "source": [
    "%%time\n",
    "## Write everything into one single HDF5 file indexed by keys for the various symbols\n",
    "folder_path = \"/Users/john.doe/Documents/Dukascopy_Historical_Data/\"\n",
    "for symbol in bid_ask_files.keys():\n",
    "    print('',symbol)\n",
    "    ask_csv_file = folder_path + bid_ask_files[symbol][\"Ask\"]\n",
    "    bid_csv_file = folder_path + bid_ask_files[symbol][\"Bid\"]\n",
    "    print(ask_csv_file,'\\n',bid_csv_file)\n",
    "    df = read_bid_ask_data(ask_csv_file, bid_csv_file, set_time_index = True)\n",
    "    df.to_hdf(f\"/Users/john.doe/Documents/vbtpro_tutorials/data/MultiAsset_OHLCV_3Y_m1.h5\", key=symbol)"
   ]
  }
 ],
 "metadata": {
  "kernelspec": {
   "display_name": "Python 3",
   "language": "python",
   "name": "python3"
  },
  "language_info": {
   "name": "python",
   "version": "3.9.6 (default, Oct 18 2022, 12:41:40) \n[Clang 14.0.0 (clang-1400.0.29.202)]"
  },
  "orig_nbformat": 4,
  "vscode": {
   "interpreter": {
    "hash": "31f2aee4e71d21fbe5cf8b01ff0e069b9275f58929596ceb00d14d90e3e16cd6"
   }
  }
 },
 "nbformat": 4,
 "nbformat_minor": 2
}
