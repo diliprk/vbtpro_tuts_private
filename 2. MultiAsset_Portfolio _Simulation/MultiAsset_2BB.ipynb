{
 "cells": [
  {
   "cell_type": "code",
   "execution_count": 5,
   "metadata": {},
   "outputs": [],
   "source": [
    "import numpy as np\n",
    "import pandas as pd\n",
    "import vectorbtpro as vbt"
   ]
  },
  {
   "cell_type": "code",
   "execution_count": 6,
   "metadata": {},
   "outputs": [
    {
     "data": {
      "application/vnd.jupyter.widget-view+json": {
       "model_id": "f2a53d9ac78b404390e06cb563bb2111",
       "version_major": 2,
       "version_minor": 0
      },
      "text/plain": [
       "  0%|          | 0/5 [00:00<?, ?it/s]"
      ]
     },
     "metadata": {},
     "output_type": "display_data"
    },
    {
     "name": "stderr",
     "output_type": "stream",
     "text": [
      "/opt/miniconda3/envs/vbt/lib/python3.10/site-packages/vectorbtpro/data/base.py:674: UserWarning: Symbols have mismatching index. Setting missing data points to NaN.\n",
      "  data = cls.align_index(data, missing=missing_index, silence_warnings=silence_warnings)\n"
     ]
    }
   ],
   "source": [
    "multi_asset_m1_hf_data = vbt.HDFData.fetch('../data/MultiAsset_OHLCV_3Y_m1.h5')"
   ]
  },
  {
   "cell_type": "code",
   "execution_count": 7,
   "metadata": {},
   "outputs": [
    {
     "data": {
      "text/plain": [
       "['AUDUSD', 'EURUSD', 'GBPUSD', 'USDCAD', 'USDJPY']"
      ]
     },
     "execution_count": 7,
     "metadata": {},
     "output_type": "execute_result"
    }
   ],
   "source": [
    "multi_asset_m1_hf_data.symbols"
   ]
  },
  {
   "cell_type": "code",
   "execution_count": 8,
   "metadata": {},
   "outputs": [
    {
     "data": {
      "text/html": [
       "<div>\n",
       "<style scoped>\n",
       "    .dataframe tbody tr th:only-of-type {\n",
       "        vertical-align: middle;\n",
       "    }\n",
       "\n",
       "    .dataframe tbody tr th {\n",
       "        vertical-align: top;\n",
       "    }\n",
       "\n",
       "    .dataframe thead th {\n",
       "        text-align: right;\n",
       "    }\n",
       "</style>\n",
       "<table border=\"1\" class=\"dataframe\">\n",
       "  <thead>\n",
       "    <tr style=\"text-align: right;\">\n",
       "      <th>symbol</th>\n",
       "      <th>AUDUSD</th>\n",
       "      <th>EURUSD</th>\n",
       "      <th>GBPUSD</th>\n",
       "      <th>USDCAD</th>\n",
       "      <th>USDJPY</th>\n",
       "    </tr>\n",
       "    <tr>\n",
       "      <th>time</th>\n",
       "      <th></th>\n",
       "      <th></th>\n",
       "      <th></th>\n",
       "      <th></th>\n",
       "      <th></th>\n",
       "    </tr>\n",
       "  </thead>\n",
       "  <tbody>\n",
       "    <tr>\n",
       "      <th>2019-12-02 03:29:00+00:00</th>\n",
       "      <td>0.676920</td>\n",
       "      <td>1.102510</td>\n",
       "      <td>1.291060</td>\n",
       "      <td>1.327435</td>\n",
       "      <td>109.5305</td>\n",
       "    </tr>\n",
       "    <tr>\n",
       "      <th>2019-12-02 03:30:00+00:00</th>\n",
       "      <td>0.676935</td>\n",
       "      <td>1.102475</td>\n",
       "      <td>1.290995</td>\n",
       "      <td>1.327435</td>\n",
       "      <td>109.5345</td>\n",
       "    </tr>\n",
       "    <tr>\n",
       "      <th>2019-12-02 03:31:00+00:00</th>\n",
       "      <td>0.676910</td>\n",
       "      <td>1.102695</td>\n",
       "      <td>1.291465</td>\n",
       "      <td>1.327485</td>\n",
       "      <td>109.5300</td>\n",
       "    </tr>\n",
       "    <tr>\n",
       "      <th>2019-12-02 03:32:00+00:00</th>\n",
       "      <td>0.676900</td>\n",
       "      <td>1.102680</td>\n",
       "      <td>1.291460</td>\n",
       "      <td>1.327635</td>\n",
       "      <td>109.5345</td>\n",
       "    </tr>\n",
       "    <tr>\n",
       "      <th>2019-12-02 03:33:00+00:00</th>\n",
       "      <td>0.676885</td>\n",
       "      <td>1.102455</td>\n",
       "      <td>1.291410</td>\n",
       "      <td>1.327655</td>\n",
       "      <td>109.5440</td>\n",
       "    </tr>\n",
       "    <tr>\n",
       "      <th>...</th>\n",
       "      <td>...</td>\n",
       "      <td>...</td>\n",
       "      <td>...</td>\n",
       "      <td>...</td>\n",
       "      <td>...</td>\n",
       "    </tr>\n",
       "    <tr>\n",
       "      <th>2022-11-23 06:39:00+00:00</th>\n",
       "      <td>NaN</td>\n",
       "      <td>NaN</td>\n",
       "      <td>1.225635</td>\n",
       "      <td>NaN</td>\n",
       "      <td>NaN</td>\n",
       "    </tr>\n",
       "    <tr>\n",
       "      <th>2022-11-23 06:40:00+00:00</th>\n",
       "      <td>NaN</td>\n",
       "      <td>NaN</td>\n",
       "      <td>1.225730</td>\n",
       "      <td>NaN</td>\n",
       "      <td>NaN</td>\n",
       "    </tr>\n",
       "    <tr>\n",
       "      <th>2022-11-23 06:41:00+00:00</th>\n",
       "      <td>NaN</td>\n",
       "      <td>NaN</td>\n",
       "      <td>1.225720</td>\n",
       "      <td>NaN</td>\n",
       "      <td>NaN</td>\n",
       "    </tr>\n",
       "    <tr>\n",
       "      <th>2022-11-23 06:42:00+00:00</th>\n",
       "      <td>NaN</td>\n",
       "      <td>NaN</td>\n",
       "      <td>1.225580</td>\n",
       "      <td>NaN</td>\n",
       "      <td>NaN</td>\n",
       "    </tr>\n",
       "    <tr>\n",
       "      <th>2022-11-23 06:43:00+00:00</th>\n",
       "      <td>NaN</td>\n",
       "      <td>NaN</td>\n",
       "      <td>1.225530</td>\n",
       "      <td>NaN</td>\n",
       "      <td>NaN</td>\n",
       "    </tr>\n",
       "  </tbody>\n",
       "</table>\n",
       "<p>1118810 rows × 5 columns</p>\n",
       "</div>"
      ],
      "text/plain": [
       "symbol                       AUDUSD    EURUSD    GBPUSD    USDCAD    USDJPY\n",
       "time                                                                       \n",
       "2019-12-02 03:29:00+00:00  0.676920  1.102510  1.291060  1.327435  109.5305\n",
       "2019-12-02 03:30:00+00:00  0.676935  1.102475  1.290995  1.327435  109.5345\n",
       "2019-12-02 03:31:00+00:00  0.676910  1.102695  1.291465  1.327485  109.5300\n",
       "2019-12-02 03:32:00+00:00  0.676900  1.102680  1.291460  1.327635  109.5345\n",
       "2019-12-02 03:33:00+00:00  0.676885  1.102455  1.291410  1.327655  109.5440\n",
       "...                             ...       ...       ...       ...       ...\n",
       "2022-11-23 06:39:00+00:00       NaN       NaN  1.225635       NaN       NaN\n",
       "2022-11-23 06:40:00+00:00       NaN       NaN  1.225730       NaN       NaN\n",
       "2022-11-23 06:41:00+00:00       NaN       NaN  1.225720       NaN       NaN\n",
       "2022-11-23 06:42:00+00:00       NaN       NaN  1.225580       NaN       NaN\n",
       "2022-11-23 06:43:00+00:00       NaN       NaN  1.225530       NaN       NaN\n",
       "\n",
       "[1118810 rows x 5 columns]"
      ]
     },
     "execution_count": 8,
     "metadata": {},
     "output_type": "execute_result"
    }
   ],
   "source": [
    "multi_asset_m1_hf_data.get('Close')"
   ]
  }
 ],
 "metadata": {
  "kernelspec": {
   "display_name": "vbt",
   "language": "python",
   "name": "python3"
  },
  "language_info": {
   "codemirror_mode": {
    "name": "ipython",
    "version": 3
   },
   "file_extension": ".py",
   "mimetype": "text/x-python",
   "name": "python",
   "nbconvert_exporter": "python",
   "pygments_lexer": "ipython3",
   "version": "3.10.6"
  },
  "orig_nbformat": 4,
  "vscode": {
   "interpreter": {
    "hash": "553d3b352623cb609a2efe4df91242fdc89d5ebcee56d9279e2aa2c11b529c13"
   }
  }
 },
 "nbformat": 4,
 "nbformat_minor": 2
}
