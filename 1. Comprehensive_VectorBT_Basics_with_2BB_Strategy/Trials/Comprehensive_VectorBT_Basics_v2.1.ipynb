{
 "cells": [
  {
   "cell_type": "code",
   "execution_count": null,
   "id": "7237df73",
   "metadata": {},
   "outputs": [],
   "source": [
    "import numpy as np\n",
    "import pandas as pd\n",
    "import vectorbtpro as vbt"
   ]
  },
  {
   "cell_type": "code",
   "execution_count": null,
   "id": "8008d54d",
   "metadata": {},
   "outputs": [],
   "source": [
    "## Load m1 data\n",
    "m1_data = vbt.HDFData.fetch('../../data/GU_OHLCV_3Y.h5')\n",
    "m1_data.wrapper.index #pandas doaesn't recognise the frequency because of missing timestamps"
   ]
  },
  {
   "cell_type": "code",
   "execution_count": null,
   "id": "42a14e16",
   "metadata": {},
   "outputs": [],
   "source": [
    "m5_data  = m1_data.resample('5T')   # Convert 1 minute to 5 mins\n",
    "m15_data = m1_data.resample('15T')  # Convert 1 minute to 15 mins\n",
    "m30_data = m1_data.resample('30T')  # Convert 1 minute to 30 mins\n",
    "h1_data = m1_data.resample(\"1h\")    # Convert 1 minute to 1 hour\n",
    "h4_data = m1_data.resample(\"4h\")    # Convert 1 minute to 4 hour\n",
    "d1_data = m1_data.resample(\"1d\")    # Convert 1 minute to daily"
   ]
  },
  {
   "cell_type": "code",
   "execution_count": null,
   "id": "bbf96bc8",
   "metadata": {},
   "outputs": [],
   "source": [
    "# Obtain all the closing  prices using the .get() method\n",
    "m5_close = m5_data.get()['Close']\n",
    "m15_close = m15_data.get()['Close']\n",
    "\n",
    "##m30 data\n",
    "m30_open  = m30_data.get()['Open']\n",
    "m30_close = m30_data.get()['Close']\n",
    "m30_high  = m30_data.get()['High']\n",
    "m30_low   = m30_data.get()['Low']\n",
    "\n",
    "## h1 data\n",
    "h1_open  = h1_data.get()['Open']\n",
    "h1_close = h1_data.get()['Close']\n",
    "h1_high  = h1_data.get()['High']\n",
    "h1_low   = h1_data.get()['Low']\n",
    "\n",
    "## h4 data\n",
    "h4_open  = h4_data.get()['Open']\n",
    "h4_close = h4_data.get()['Close']\n",
    "h4_high  = h4_data.get()['High']\n",
    "h4_low   = h4_data.get()['Low']\n",
    "\n",
    "## 1D data\n",
    "d1_open  = d1_data.get()['Open']\n",
    "d1_close = d1_data.get()['Close']\n",
    "d1_high  = d1_data.get()['High']\n",
    "d1_low   = d1_data.get()['Low']"
   ]
  },
  {
   "cell_type": "markdown",
   "id": "d536eb71",
   "metadata": {},
   "source": [
    "### Creating the Indicators for multi-timeframes"
   ]
  },
  {
   "cell_type": "code",
   "execution_count": null,
   "id": "fe8ee072",
   "metadata": {},
   "outputs": [],
   "source": [
    "## Method 1 - Manual of method of MTF Indicator creation\n",
    "rsi_period = 21\n",
    "\n",
    "## 5m indicators\n",
    "m5_rsi = vbt.talib(\"RSI\", timeperiod = rsi_period).run(m5_data.get(\"Close\"), skipna=True).real\n",
    "m5_bbands = vbt.talib(\"BBANDS\").run(m5_data.get(\"Close\"), skipna=True)\n",
    "m5_bbands_rsi = vbt.talib(\"BBANDS\").run(m5_rsi, skipna=True)\n",
    "\n",
    "## 15m indicators\n",
    "m15_rsi = vbt.talib(\"RSI\", timeperiod = rsi_period).run(m15_data.get(\"Close\"), skipna=True).real\n",
    "m15_bbands = vbt.talib(\"BBANDS\").run(m15_data.get(\"Close\"), skipna=True)\n",
    "m15_bbands_rsi = vbt.talib(\"BBANDS\").run(m15_rsi, skipna=True)\n",
    "\n",
    "## 30m indicators\n",
    "m30_rsi = vbt.talib(\"RSI\", timeperiod = rsi_period).run(m30_data.get(\"Close\"), skipna=True).real\n",
    "m30_bbands = vbt.talib(\"BBANDS\").run(m30_data.get(\"Close\"), skipna=True)\n",
    "m30_bbands_rsi = vbt.talib(\"BBANDS\").run(m30_rsi, skipna=True)\n",
    "\n",
    "## h1 indicators\n",
    "h1_rsi = vbt.talib(\"RSI\", timeperiod = rsi_period).run(h1_data.get(\"Close\"), skipna=True).real\n",
    "h1_bbands = vbt.talib(\"BBANDS\").run(h1_data.get(\"Close\"), skipna=True)\n",
    "h1_bbands_rsi = vbt.talib(\"BBANDS\").run(h1_rsi, skipna=True)\n",
    "\n",
    "## h4 indicators\n",
    "h4_rsi = vbt.talib(\"RSI\", timeperiod = rsi_period).run(h4_data.get(\"Close\"), skipna=True).real\n",
    "h4_bbands = vbt.talib(\"BBANDS\").run(h4_data.get(\"Close\"), skipna=True)\n",
    "h4_bbands_rsi = vbt.talib(\"BBANDS\").run(h4_rsi, skipna=True)"
   ]
  },
  {
   "cell_type": "markdown",
   "id": "7468e687",
   "metadata": {},
   "source": [
    "### Resample and creating a multi-time frame dataframe"
   ]
  },
  {
   "cell_type": "markdown",
   "id": "a6f08e6a",
   "metadata": {},
   "source": [
    "Upsampling higher timeframe (`low frequency`) data to lower timeframe (`high frequency`) data"
   ]
  },
  {
   "cell_type": "code",
   "execution_count": null,
   "id": "b9997dcc",
   "metadata": {},
   "outputs": [],
   "source": [
    "def create_resamplers(result_dict_keys_list : list, source_indices : list,  source_frequencies :list, target_index : pd.Series, target_freq : str):\n",
    "    \"\"\"\n",
    "    Creates a dictionary of vbtpro resampler objects.\n",
    "\n",
    "    Parameters\n",
    "    ==========\n",
    "    result_dict_keys_list : list, list of strings, which are keys of the output dictionary\n",
    "    source_indices        : list, list of pd.time series objects of the higher timeframes\n",
    "    source_frequencies    : list, list of strings, which are short form representation of the time series order. Eg:[\"1D\", \"4h\"]\n",
    "    target_index          : pd.Series, target time series for the resampler objects\n",
    "    target_freq           : str, target time frequency for the resampler objects,\n",
    "                            use the 1st frequency in source_frequencies list\n",
    "\n",
    "    Returns\n",
    "    ===========\n",
    "    resamplers_dict       : dict, vbt pro resampler objects\n",
    "    \"\"\"\n",
    "    \n",
    "    \n",
    "    resamplers = []\n",
    "    for si, sf in zip(source_indices, source_frequencies):\n",
    "        resamplers.append(vbt.Resampler(source_index = si,  target_index = target_index,  source_freq = sf, target_freq = target_freq))\n",
    "    return dict(zip(result_dict_keys_list, resamplers))"
   ]
  },
  {
   "cell_type": "code",
   "execution_count": null,
   "id": "3b3c89f1",
   "metadata": {},
   "outputs": [],
   "source": [
    "## Create Resampler Objects for upsampling\n",
    "src_indices = [m15_close.index, m30_close.index, h1_close.index, h4_close.index, d1_close.index ]\n",
    "src_frequencies = [\"15T\",\"30T\", \"1h\", \"4h\"] #, \"1D\"\n",
    "resampler_dict_keys = [\"m15_m5\", \"m30_m5\", \"h1_m5\", \"h4_m5\"] # \"d1_m5\"\n",
    "\n",
    "list_resamplers = create_resamplers(resampler_dict_keys, src_indices, src_frequencies, m5_close.index, \"5T\")\n",
    "# list_resamplers = create_resamplers(resampler_dict_keys, src_indices, src_frequencies, m15_close.index, \"15T\")\n",
    "\n",
    "list_resamplers"
   ]
  },
  {
   "cell_type": "markdown",
   "id": "b8648af9",
   "metadata": {},
   "source": [
    "### Notes:\n",
    "Setting the target index and targex frequency to 5min, creates more NULL values in the resampling of higher time frame data, which in turn creates a difference in the total nr. of orders ( `Total Trades` ) and ultimately the `Total Return [%]`"
   ]
  },
  {
   "cell_type": "code",
   "execution_count": null,
   "id": "c44085dd",
   "metadata": {},
   "outputs": [],
   "source": [
    "## Initialize  dictionary\n",
    "data = {}\n",
    "\n",
    "# data = {\"m5_close\" : m5_close.ffill(), \"m5_rsi\" : m5_rsi.ffill(), \n",
    "#         \"m5_bband_price_upper\" : m5_bbands.upperband.ffill(),  \"m5_bband_price_middle\" : m5_bbands.middleband.ffill(),  \"m5_bband_price_lower\" : m5_bbands.lowerband.ffill(),\n",
    "#         \"m5_bband_rsi_upper\" : m5_bbands_rsi.upperband.ffill(),  \"m5_bband_rsi_middle\" : m5_bbands_rsi.middleband.ffill(), \"m5_bband_rsi_lower\" : m5_bbands_rsi.lowerband.ffill() \n",
    "#         }"
   ]
  },
  {
   "cell_type": "code",
   "execution_count": null,
   "id": "35b813c3",
   "metadata": {},
   "outputs": [],
   "source": [
    "## Use along with method 1 - Manual indicator creation for MTF\n",
    "series_to_resample = [\n",
    "    [m15_close, m15_rsi, m15_bbands.upperband, m15_bbands.middleband, m15_bbands.lowerband, m15_bbands_rsi.upperband, m15_bbands_rsi.middleband, m15_bbands_rsi.lowerband],\n",
    "    [m30_close, m30_rsi, m30_bbands.upperband, m30_bbands.middleband, m30_bbands.lowerband, m30_bbands_rsi.upperband, m30_bbands_rsi.middleband, m30_bbands_rsi.lowerband],\n",
    "    [h1_close, h1_rsi, h1_bbands.upperband, h1_bbands.middleband, h1_bbands.lowerband, h1_bbands_rsi.upperband, h1_bbands_rsi.middleband, h1_bbands_rsi.lowerband],\n",
    "    [h4_close, h4_rsi, h4_bbands.upperband, h4_bbands.middleband, h4_bbands.lowerband, h4_bbands_rsi.upperband, h4_bbands_rsi.middleband, h4_bbands_rsi.lowerband],\n",
    "    # [d1_close, d1_rsi, d1_bbands.upperband, d1_bbands.middleband, d1_bbands.lowerband, d1_bbands_rsi.upperband, d1_bbands_rsi.middleband, d1_bbands_rsi.lowerband]\n",
    "    ]\n",
    "\n",
    "data_keys = [\n",
    "    [\"m15_close\", \"m15_rsi\", \"m15_bband_price_upper\",  \"m15_bband_price_middle\", \"m15_bband_price_lower\",  \"m15_bband_rsi_upper\",  \"m15_bband_rsi_middle\", \"m15_bband_rsi_lower\"], \n",
    "    [\"m30_close\", \"m30_rsi\", \"m30_bband_price_upper\",  \"m30_bband_price_middle\", \"m30_bband_price_lower\",  \"m30_bband_rsi_upper\",  \"m30_bband_rsi_middle\", \"m30_bband_rsi_lower\"],\n",
    "    [\"h1_close\", \"h1_rsi\", \"h1_bband_price_upper\",  \"h1_bband_price_middle\",  \"h1_bband_price_lower\",  \"h1_bband_rsi_upper\",  \"h1_bband_rsi_middle\", \"h1_bband_rsi_lower\" ],\n",
    "    [\"h4_close\", \"h4_rsi\", \"h4_bband_price_upper\",  \"h4_bband_price_middle\",  \"h4_bband_price_lower\",  \"h4_bband_rsi_upper\",  \"h4_bband_rsi_middle\", \"h4_bband_rsi_lower\" ],\n",
    "    # [\"d1_close\", \"d1_rsi\", \"d1_bband_price_upper\",  \"d1_bband_price_middle\",  \"d1_bband_price_lower\",  \"d1_bband_rsi_upper\",  \"d1_bband_rsi_middle\", \"d1_bband_rsi_lower\" ]\n",
    "         ]"
   ]
  },
  {
   "cell_type": "code",
   "execution_count": null,
   "id": "fdb1b1c5",
   "metadata": {},
   "outputs": [],
   "source": [
    "## Use this along with Method 1 of indicator creation\n",
    "\n",
    "for lst_series, lst_keys, resampler in zip(series_to_resample, data_keys, resampler_dict_keys):\n",
    "    for key, time_series in zip(lst_keys, lst_series):\n",
    "        resampled_time_series = time_series.vbt.resample_closing(list_resamplers[resampler])\n",
    "        data[key] = resampled_time_series.ffill()\n",
    "        print('BEFORE RESAMPLING - ', key, time_series.index.freq, 'length:' ,len(time_series), 'NULL Count:',time_series.isna().sum())\n",
    "        print(\"AFTER RESAMPLING - \",resampled_time_series.index.freq, 'length:' ,len(resampled_time_series), 'NULL Count:',resampled_time_series.isna().sum(), '\\n' )"
   ]
  },
  {
   "cell_type": "code",
   "execution_count": null,
   "id": "b974b753",
   "metadata": {},
   "outputs": [],
   "source": [
    "## Add m30 OLH data\n",
    "# data[\"m30_open\"] = m30_open.vbt.resample_opening(list_resamplers['m30_m5']).ffill()\n",
    "# data[\"m30_high\"] = m30_high.vbt.resample_closing(list_resamplers['m30_m5']).ffill()\n",
    "# data[\"m30_low\"]  = m30_low.vbt.resample_closing(list_resamplers['m30_m5']).ffill()\n",
    "\n",
    "## Add h1 OLH data\n",
    "data[\"h1_open\"] = h1_open.vbt.resample_opening(list_resamplers['h1_m5'])#.ffill()\n",
    "data[\"h1_high\"] = h1_high.vbt.resample_closing(list_resamplers['h1_m5'])#.ffill()\n",
    "data[\"h1_low\"]  = h1_low.vbt.resample_closing(list_resamplers['h1_m5'])#.ffill()\n",
    "\n",
    "## Add h4 OLH data\n",
    "data[\"h4_open\"] = h4_open.vbt.resample_opening(list_resamplers['h4_m5'])#.ffill()\n",
    "data[\"h4_high\"] = h4_high.vbt.resample_closing(list_resamplers['h4_m5'])#.ffill()\n",
    "data[\"h4_low\"]  = h4_low.vbt.resample_closing(list_resamplers['h4_m5'])#.ffill()"
   ]
  },
  {
   "cell_type": "markdown",
   "id": "aa99f389",
   "metadata": {},
   "source": [
    "Constructing DataFrame of Multi-Time Frame Data"
   ]
  },
  {
   "cell_type": "code",
   "execution_count": null,
   "id": "d08965da",
   "metadata": {},
   "outputs": [],
   "source": [
    "cols_order = [\n",
    "    # 'm5_close','m5_rsi','m5_bband_price_upper','m5_bband_price_middle','m5_bband_price_lower','m5_bband_rsi_upper','m5_bband_rsi_middle','m5_bband_rsi_lower',\n",
    "'m15_close','m15_rsi','m15_bband_price_upper','m15_bband_price_middle', 'm15_bband_price_lower','m15_bband_rsi_upper','m15_bband_rsi_middle', 'm15_bband_rsi_lower',\n",
    "'m30_close','m30_rsi', 'm30_bband_price_upper', 'm30_bband_price_middle', 'm30_bband_price_lower', 'm30_bband_rsi_upper', 'm30_bband_rsi_middle', 'm30_bband_rsi_lower',\n",
    " 'h1_open', 'h1_high', 'h1_low', 'h1_close', 'h1_rsi', 'h1_bband_price_upper', 'h1_bband_price_middle', 'h1_bband_price_lower', 'h1_bband_rsi_upper', 'h1_bband_rsi_middle','h1_bband_rsi_lower',\n",
    " 'h4_open', 'h4_high', 'h4_low', 'h4_close', 'h4_rsi', 'h4_bband_price_upper', 'h4_bband_price_middle', 'h4_bband_price_lower', 'h4_bband_rsi_upper', 'h4_bband_rsi_middle', 'h4_bband_rsi_lower'\n",
    " ]"
   ]
  },
  {
   "cell_type": "code",
   "execution_count": null,
   "id": "99b57561",
   "metadata": {},
   "outputs": [],
   "source": [
    "## construct a multi-timeframe dataframe\n",
    "mtf_df = pd.DataFrame(data)[cols_order]\n",
    "print(\"Length of mtf_df:\",len(mtf_df), f'on {mtf_df.index.freq} frequency')"
   ]
  },
  {
   "cell_type": "code",
   "execution_count": null,
   "id": "42bd8a78",
   "metadata": {},
   "outputs": [],
   "source": [
    "for col in mtf_df.columns:\n",
    "    time_series = mtf_df[col]\n",
    "    print(col,time_series.index.freq, 'length:' ,len(time_series), 'NULL Count:',time_series.isna().sum())"
   ]
  },
  {
   "cell_type": "code",
   "execution_count": null,
   "id": "4657025c",
   "metadata": {},
   "outputs": [],
   "source": [
    "display(mtf_df)"
   ]
  },
  {
   "cell_type": "code",
   "execution_count": null,
   "id": "e326f7ad",
   "metadata": {},
   "outputs": [],
   "source": [
    "# print(mtf_df.columns.to_list())"
   ]
  },
  {
   "cell_type": "code",
   "execution_count": null,
   "id": "c601eb7b",
   "metadata": {},
   "outputs": [],
   "source": [
    "mtf_df.info()"
   ]
  },
  {
   "cell_type": "markdown",
   "id": "a44d06a8",
   "metadata": {},
   "source": [
    "### Double Bollinger Band - Strategy Conditions\n",
    "The trading conditions (rules) of the strategy are as follows:\n",
    "\n",
    "1. A long (buy) signal is generated whenever the H4 market (Low) price surpasses its lower Bollinger band after having been below it while simultaneously, the 5m RSI surpasses its lower Bollinger band after having been below it.\n",
    "\n",
    "2. A short (sell) signal is generated whenever the H4 market (High) price breaks its upper Bollinger band after having been above it while simultaneously, the 5m RSI breaks below its upper Bollinger band after having been above it."
   ]
  },
  {
   "cell_type": "code",
   "execution_count": null,
   "id": "2e26144b",
   "metadata": {},
   "outputs": [],
   "source": [
    "required_cols = [\n",
    "                # 'm5_close', \"m5_rsi\" , \"m5_bband_rsi_lower\", \"m5_bband_rsi_upper\" ,\n",
    "                'm15_close','m15_rsi','m15_bband_rsi_lower', 'm15_bband_rsi_upper',\n",
    "                #  \"h1_low\", \"h1_rsi\" , \"h1_bband_price_lower\" ,\n",
    "                 'h4_low', \"h4_rsi\", \"h4_bband_price_lower\", \"h4_bband_price_upper\"]"
   ]
  },
  {
   "cell_type": "code",
   "execution_count": null,
   "id": "26466978",
   "metadata": {},
   "outputs": [],
   "source": [
    "mtf_df[required_cols][(mtf_df['h4_low'] < mtf_df['h4_bband_price_lower'])]"
   ]
  },
  {
   "cell_type": "code",
   "execution_count": null,
   "id": "beee9fb4",
   "metadata": {},
   "outputs": [],
   "source": [
    "## Higher values greater than 1.0 are like moving up the lower RSI b-band, signifying if the lowerband rsi is anywhere around 1% of the lower b-band validate that case as True\n",
    "bb_upper_fract = 0.99\n",
    "bb_lower_fract = 1.01"
   ]
  },
  {
   "cell_type": "code",
   "execution_count": null,
   "id": "7f89559e",
   "metadata": {},
   "outputs": [],
   "source": [
    "# mtf_df[required_cols][(mtf_df['m5_rsi'] < (bb_lower_fract * mtf_df['m5_bband_rsi_lower']) )]"
   ]
  },
  {
   "cell_type": "code",
   "execution_count": null,
   "id": "635b20d4",
   "metadata": {},
   "outputs": [],
   "source": [
    "## When additional checking if RSI goes below 30 it Yields very few results\n",
    "# mtf_df[required_cols][(mtf_df['m5_rsi'] < (bb_lower_fract * mtf_df['m5_bband_rsi_lower']) ) & (mtf_df['m5_rsi'] <= 30)]"
   ]
  },
  {
   "cell_type": "code",
   "execution_count": null,
   "id": "3d9f280f",
   "metadata": {},
   "outputs": [],
   "source": [
    "## Long Entry Conditions\n",
    "c1_long_entry = (mtf_df['h4_low'] <= mtf_df['h4_bband_price_lower'])\n",
    "c2_long_entry = (mtf_df['m15_rsi'] <= (bb_lower_fract * mtf_df['m15_bband_rsi_lower']) )\n",
    "# c3_long_entry = (mtf_df['m5_rsi'] <= 30)\n",
    "# c4_long_entry = (mtf_df['m5_rsi'] <= (bb_lower_fract * mtf_df['m5_bband_rsi_lower']) )\n",
    "\n",
    "## Long Exit Conditions\n",
    "c1_long_exit =  (mtf_df['h4_high'] >= mtf_df['h4_bband_price_upper'])\n",
    "c2_long_exit = (mtf_df['m15_rsi'] >= (bb_upper_fract * mtf_df['m15_bband_rsi_upper'])) \n",
    "# c3_long_exit = (mtf_df['m5_rsi'] >= 70)\n",
    "# c4_long_exit = (mtf_df['m5_rsi'] >= (bb_upper_fract * mtf_df['m5_bband_rsi_upper']))"
   ]
  },
  {
   "cell_type": "code",
   "execution_count": null,
   "id": "7c6cf17d",
   "metadata": {},
   "outputs": [],
   "source": [
    "## Strategy conditions check - Using m15 and h4 data \n",
    "mtf_df['entry'] = c1_long_entry & c2_long_entry\n",
    "mtf_df['exit']  = c1_long_exit & c2_long_exit"
   ]
  },
  {
   "cell_type": "code",
   "execution_count": null,
   "id": "92c2f1ac",
   "metadata": {},
   "outputs": [],
   "source": [
    "## Strategy conditions check - Using m5, m15 and h4 data \n",
    "# mtf_df['entry'] = c1_long_entry & c2_long_entry & c3_long_entry\n",
    "# mtf_df['exit']  = c1_long_exit & c2_long_exit & c3_long_exit"
   ]
  },
  {
   "cell_type": "code",
   "execution_count": null,
   "id": "e8b3ec55",
   "metadata": {},
   "outputs": [],
   "source": [
    "## Strategy conditions check - Using m5 (2 conditions) and h4 data \n",
    "# mtf_df['entry'] = c1_long_entry & c3_long_entry & c4_long_entry\n",
    "# mtf_df['exit']  = c1_long_exit & c3_long_exit & c4_long_exit"
   ]
  },
  {
   "cell_type": "code",
   "execution_count": null,
   "id": "9a35db61",
   "metadata": {},
   "outputs": [],
   "source": [
    "## Final conditions - Using m5 (1 condition) and h4 data \n",
    "# mtf_df['entry'] = c1_long_entry & c4_long_entry\n",
    "# mtf_df['exit']  = c1_long_exit & c4_long_exit"
   ]
  },
  {
   "cell_type": "code",
   "execution_count": null,
   "id": "e40acb04",
   "metadata": {},
   "outputs": [],
   "source": [
    "mtf_df['signal'] = 0   \n",
    "mtf_df['signal'] = np.where( mtf_df['entry'] ,1, 0)\n",
    "mtf_df['signal'] = np.where( mtf_df['exit'] ,-1, mtf_df['signal'])"
   ]
  },
  {
   "cell_type": "code",
   "execution_count": null,
   "id": "0d03f9fb",
   "metadata": {},
   "outputs": [],
   "source": [
    "entries = mtf_df.signal == 1.0\n",
    "exits = mtf_df.signal == -1.0\n",
    "\n",
    "# mtf_df['short_entries'] = short_entries = long_exits\n",
    "# mtf_df['short_exits'] = short_exits = long_entries\n",
    "\n",
    "# mtf_df.drop(columns=\"signal\", axis=1, inplace = True)\n",
    "# mtf_df.head()"
   ]
  },
  {
   "cell_type": "markdown",
   "id": "2bc0c90a",
   "metadata": {},
   "source": [
    "_Cleaning_ `entries` and `exit` signals by removing redundant signals"
   ]
  },
  {
   "cell_type": "code",
   "execution_count": null,
   "id": "d0c503d0",
   "metadata": {},
   "outputs": [],
   "source": [
    "print(entries.vbt.signals.total(), exits.vbt.signals.total())\n",
    "print(len(entries), len(exits))"
   ]
  },
  {
   "cell_type": "code",
   "execution_count": null,
   "id": "7639bda6",
   "metadata": {},
   "outputs": [],
   "source": [
    "## Clean redundant and duplicate signals\n",
    "clean_entries, clean_exits = entries.vbt.signals.clean(exits)"
   ]
  },
  {
   "cell_type": "code",
   "execution_count": null,
   "id": "5e004034",
   "metadata": {},
   "outputs": [],
   "source": [
    "print(entries.vbt.signals.total(),exits.vbt.signals.total())\n",
    "print(len(clean_entries), len(clean_exits))"
   ]
  },
  {
   "cell_type": "markdown",
   "id": "f05e0878",
   "metadata": {},
   "source": [
    "Resampling `entries` and `exits` to `H4` for plotting purpose"
   ]
  },
  {
   "cell_type": "code",
   "execution_count": null,
   "id": "df6d2303",
   "metadata": {},
   "outputs": [],
   "source": [
    "%%time\n",
    "## Faster method\n",
    "h4_entries = entries.vbt.resample_apply(\"4h\", \"any\", wrap_kwargs=dict(dtype=bool))\n",
    "h4_exits = exits.vbt.resample_apply(\"4h\", \"any\", wrap_kwargs=dict(dtype=bool))"
   ]
  },
  {
   "cell_type": "code",
   "execution_count": null,
   "id": "ce0db13d",
   "metadata": {},
   "outputs": [],
   "source": [
    "print(len(h4_entries),len(h4_exits))\n",
    "print(h4_entries.vbt.signals.total(),h4_exits.vbt.signals.total())"
   ]
  },
  {
   "cell_type": "code",
   "execution_count": null,
   "id": "efce0bb9",
   "metadata": {},
   "outputs": [],
   "source": [
    "clean_h4_entries, clean_h4_exits = h4_entries.vbt.signals.clean(h4_exits)"
   ]
  },
  {
   "cell_type": "code",
   "execution_count": null,
   "id": "2005ef15",
   "metadata": {},
   "outputs": [],
   "source": [
    "print(len(clean_h4_entries),len(clean_h4_exits))\n",
    "print(clean_h4_entries.vbt.signals.total(),clean_h4_exits.vbt.signals.total())"
   ]
  },
  {
   "cell_type": "markdown",
   "id": "13ee994c",
   "metadata": {},
   "source": [
    "### Plotting Indicators"
   ]
  },
  {
   "cell_type": "code",
   "execution_count": null,
   "id": "524f24b2",
   "metadata": {},
   "outputs": [],
   "source": [
    "## Global Plot Settings\n",
    "vbt.settings.set_theme(\"dark\")\n",
    "vbt.settings['plotting']['layout']['width'] = 1280"
   ]
  },
  {
   "cell_type": "code",
   "execution_count": null,
   "id": "7cb4ceef",
   "metadata": {},
   "outputs": [],
   "source": [
    "## Acquire Data for Indicators Plot\n",
    "h4_df = h4_data.get()\n",
    "h4_rsi = vbt.talib(\"RSI\", timeperiod = rsi_period).run(h4_data.get(\"Close\"), skipna=True).real\n",
    "h4_bbands = vbt.talib(\"BBANDS\").run(h4_data.get(\"Close\"), skipna=True)\n",
    "h4_bbands_rsi = vbt.talib(\"BBANDS\").run(h4_rsi, skipna=True)\n",
    "h4_df"
   ]
  },
  {
   "cell_type": "markdown",
   "id": "2514d91f",
   "metadata": {},
   "source": [
    "Create Backtest Simulation for 2BB Strategy using `vbt.Portfolio.from_signals()`"
   ]
  },
  {
   "cell_type": "code",
   "execution_count": null,
   "id": "ffa2f16e",
   "metadata": {},
   "outputs": [],
   "source": [
    "pf_2_bb_custom = vbt.Portfolio.from_signals(\n",
    "    mtf_df['m15_close'], \n",
    "    # mtf_df['m5_close'], \n",
    "    entries=entries, \n",
    "    exits=exits, \n",
    "    direction = \"both\",\n",
    "    freq=pd.Timedelta(minutes=5), \n",
    "    init_cash=100000\n",
    ")"
   ]
  },
  {
   "cell_type": "code",
   "execution_count": null,
   "id": "9251be58",
   "metadata": {},
   "outputs": [],
   "source": [
    "pf_2_bb_custom.stats()"
   ]
  },
  {
   "cell_type": "markdown",
   "id": "cf6f2180",
   "metadata": {},
   "source": [
    "### Questions:\n",
    "1.) Where do I see the Max Drawdown Duration as being 282 days?"
   ]
  },
  {
   "cell_type": "code",
   "execution_count": null,
   "id": "be11464a",
   "metadata": {},
   "outputs": [],
   "source": [
    "# pf_2_bb_custom.plot().show() ## This takes too long (30 secs) as it uses 5m timeframe\n",
    "pf_2_bb_custom.resample(\"1d\").plot().show()"
   ]
  },
  {
   "cell_type": "code",
   "execution_count": null,
   "id": "0bc5813b",
   "metadata": {},
   "outputs": [],
   "source": [
    "# pf_2_bb_custom.orders.plot(xaxis=dict(rangeslider_visible=True),**kwargs1).show()\n",
    "kwargs1 = {\"title_text\" : \"Orders - Stats & Plot\", \"title_font_size\" : 18}\n",
    "pf_2_bb_custom.orders.resample(\"1d\").plot(xaxis=dict(rangeslider_visible=True),**kwargs1).show()"
   ]
  },
  {
   "cell_type": "code",
   "execution_count": null,
   "id": "114be411",
   "metadata": {},
   "outputs": [],
   "source": [
    "## Simple line plots seem to be using matplotlib\n",
    "pf_2_bb_custom.trades.records_readable.PnL.cumsum().plot()"
   ]
  },
  {
   "cell_type": "code",
   "execution_count": null,
   "id": "eec2f13d",
   "metadata": {},
   "outputs": [],
   "source": [
    "pnl_series = pf_2_bb_custom.trades.pnl.to_pd()\n",
    "pnl_series[pnl_series.notna()]"
   ]
  },
  {
   "cell_type": "markdown",
   "id": "60038cf2",
   "metadata": {},
   "source": [
    "### Creating Stacked SubPlots on Sliced Data"
   ]
  },
  {
   "cell_type": "code",
   "execution_count": null,
   "id": "536366f3",
   "metadata": {},
   "outputs": [],
   "source": [
    "def plot_strategy(slice_lower : str, slice_upper: str, df : pd.DataFrame , rsi : pd.Series,\n",
    "                         bb_price : vbt.indicators.factory, bb_rsi : vbt.indicators.factory, \n",
    "                         entries: pd.Series, exits: pd.Series, \n",
    "                         long_trades: pd.DataFrame, short_trades: pd.DataFrame,\n",
    "                         pf: vbt.portfolio.base.Portfolio,\n",
    "                         show_legend : bool = True):\n",
    "    \"\"\"Creates a stacked indicator plot for the 2BB strategy.\n",
    "    Parameters\n",
    "    ===========\n",
    "    slice_lower : str, start date of dataframe slice in yyyy.mm.dd format\n",
    "    slice_upper : str, start date of dataframe slice in yyyy.mm.dd format\n",
    "    df          : pd.DataFrame, containing the OHLCV data\n",
    "    rsi         : pd.Series, rsi indicator time series in same freq as df\n",
    "    bb_price    : vbt.indicators.factory.talib('BBANDS'), computed on df['close'] price\n",
    "    bb_rsi      : vbt.indicators.factory.talib('BBANDS') computer on RSI\n",
    "    entries     : pd.Series, time series data of long entries\n",
    "    exits       : pd.Series, time series data of long exits\n",
    "    long_trades : pd.DataFrame, long_trades from `pf.trades.records_readable`\n",
    "    short_trades: pd.DataFrame, short_trades from `pf.trades.records_readable`\n",
    "    show_legend : bool, switch to show or completely hide the legend box on the plot\n",
    "    \n",
    "    Returns\n",
    "    =======\n",
    "    fig         : plotly figure object\n",
    "    \"\"\"\n",
    "    kwargs1 = {\"title_text\" : \"H4 OHLCV with BBands on Price and RSI\", \n",
    "               \"title_font_size\" : 18,\n",
    "               \"height\" : 960,\n",
    "               \"legend\" : dict(yanchor=\"top\",y=0.99, xanchor=\"right\",x= 0.1)}\n",
    "    fig = vbt.make_subplots(rows=2,cols=1, shared_xaxes=True, vertical_spacing=0.1)\n",
    "    ## Filter Data according to date slice\n",
    "    df_slice = df[[\"Open\", \"High\", \"Low\", \"Close\"]][slice_lower : slice_upper]\n",
    "    bb_price = bb_price[slice_lower : slice_upper]\n",
    "    rsi = rsi[slice_lower : slice_upper]\n",
    "    bb_rsi = bb_rsi[slice_lower : slice_upper]\n",
    "    entries = entries[slice_lower : slice_upper]\n",
    "    exits = exits[slice_lower : slice_upper]\n",
    "    long_trades = long_trades[slice_lower : slice_upper].reset_index()\n",
    "    short_trades = short_trades[slice_lower : slice_upper].reset_index()\n",
    "\n",
    "    ## Retrieve Filled entry and exit prices\n",
    "    entry_prices = pd.concat([long_trades[['Entry Index', 'Avg Entry Price']], short_trades[['Entry Index', 'Avg Entry Price']]]).sort_values('Entry Index').set_index('Entry Index')\n",
    "    exit_prices = pd.concat([long_trades[['Exit Index', 'Avg Exit Price']], short_trades[['Exit Index', 'Avg Exit Price']]]).sort_values('Exit Index').set_index('Exit Index')\n",
    "    # entry_prices.index.names = ['time']\n",
    "    # exit_prices.index.names = ['time']\n",
    "    # entry_prices.name = 'Entries'\n",
    "    # exit_prices.name = 'Exits'\n",
    "    \n",
    "    ## Retrieve datetime index of rows where price data is NULL\n",
    "    # retrieve the dates that are in the original datset\n",
    "    dt_obs = df_slice.index.to_list()\n",
    "    # Drop rows with missing values\n",
    "    dt_obs_dropped = df_slice['Close'].dropna().index.to_list()\n",
    "    # store  dates with missing values\n",
    "    dt_breaks = [d for d in dt_obs if d not in dt_obs_dropped]\n",
    "\n",
    "    ## Plot Figures\n",
    "    df_slice.vbt.ohlcv.plot(add_trace_kwargs=dict(row=1, col=1),  fig=fig, **kwargs1) ## Without Range Slider\n",
    "    rsi.rename(\"RSI\").vbt.plot(add_trace_kwargs=dict(row=2, col=1), trace_kwargs = dict(connectgaps=True), fig=fig, **kwargs1 ) \n",
    "\n",
    "    bb_dotted_line = dict(color=\"white\",width=1, dash=\"dot\")\n",
    "    bb_price.plot(add_trace_kwargs=dict(row=1, col=1),fig=fig, **kwargs1,\n",
    "                lowerband_trace_kwargs=dict(fill=None, name = 'BB_Price_Lower', connectgaps=True, line = bb_dotted_line), \n",
    "                upperband_trace_kwargs=dict(fill=None, name = 'BB_Price_Upper', connectgaps=True, line = bb_dotted_line),\n",
    "                middleband_trace_kwargs=dict(fill=None, name = 'BB_Price_Middle', connectgaps=True) )\n",
    "\n",
    "    bb_rsi.plot(add_trace_kwargs=dict(row=2, col=1),limits=(25, 75),fig=fig,\n",
    "                lowerband_trace_kwargs=dict(fill=None, name = 'BB_RSI_Lower', connectgaps=True,line = bb_dotted_line), \n",
    "                upperband_trace_kwargs=dict(fill=None, name = 'BB_RSI_Upper', connectgaps=True,line = bb_dotted_line),\n",
    "                middleband_trace_kwargs=dict(fill=None, name = 'BB_RSI_Middle', connectgaps=True, visible = False))\n",
    "    \n",
    "    pf[slice_lower:slice_upper].plot_trade_signals(add_trace_kwargs=dict(row=1, col=1),fig=fig,\n",
    "                                                   plot_close=False, plot_positions=\"lines\")\n",
    "\n",
    "    ## Add Marker style for Long Entries and Long Exits\n",
    "    # long_entry_marker_style = dict(color=\"limegreen\",symbol=\"triangle-up\",size = 14)\n",
    "    # long_exit_marker_style_zero = dict(color=\"red\", symbol=\"square-open\", size = 14)\n",
    "    # long_exit_marker_style_profit = dict(color=\"red\", symbol=\"triangle-down\", size = 14)\n",
    "    # long_exit_marker_style_loss = dict(color=\"red\", symbol=\"circle-open-dot\", size = 14)\n",
    "\n",
    "    pf.trades.direction_long[slice_lower : slice_upper].plot(\n",
    "                                        add_trace_kwargs=dict(row=1, col=1),fig=fig,\n",
    "                                        plot_close = False,\n",
    "                                        plot_markers = False,\n",
    "                                        # entry_trace_kwargs = dict(name = \"Long Entries\", marker = long_entry_marker_style),\n",
    "                                        # exit_trace_kwargs = dict(name = \"Long Exits BreakEven\", marker = long_exit_marker_style_zero),\n",
    "                                        # exit_profit_trace_kwargs = dict(name = \"Long Exits Profit\", marker = long_exit_marker_style_profit),\n",
    "                                        # exit_loss_trace_kwargs = dict(name = \"Long Exits Loss\", marker = long_exit_marker_style_loss),\n",
    "                                        )\n",
    "                                        \n",
    "    ## Add Marker Style for Short Entries and Short Exits\n",
    "    # shot_entry_marker_style = dict(color=\"limegreen\",symbol=\"triangle-down\",size = 14)\n",
    "    # short_exit_marker_style_zero = dict(color=\"red\", symbol=\"square-open\", size = 14)\n",
    "    # short_exit_marker_style_profit = dict(color=\"red\", symbol=\"triangle-up\", size = 14)\n",
    "    # short_exit_marker_style_loss = dict(color=\"red\", symbol=\"circle-open-dot\", size = 14)\n",
    "\n",
    "    pf.trades.direction_short[slice_lower : slice_upper].plot(\n",
    "                                            add_trace_kwargs=dict(row=1, col=1),fig=fig,\n",
    "                                            plot_close = False,\n",
    "                                            plot_markers = False,\n",
    "                                            # entry_trace_kwargs = dict(name = \"Short Entries\", marker = shot_entry_marker_style),\n",
    "                                            # exit_trace_kwargs = dict(name = \"Short Exits BreakEven\", marker = short_exit_marker_style_zero),\n",
    "                                            # exit_profit_trace_kwargs = dict(name = \"Short Exits Profit\", marker = short_exit_marker_style_profit),\n",
    "                                            # exit_loss_trace_kwargs = dict(name = \"Short Exits Loss\", marker = short_exit_marker_style_loss),\n",
    "                                            )\n",
    "\n",
    "    ## Add Entries and Long Exits on Price\n",
    "    # entries.vbt.signals.plot_as_entries(df_slice['Close'], fig=fig,\n",
    "    #                                     trace_kwargs=dict(marker=dict(color=\"limegreen\", size = 12), \n",
    "    #                                                       name=\"Entries\")\n",
    "    #                                         )\n",
    "    # exits.vbt.signals.plot_as_exits(df_slice['Close'], fig = fig,\n",
    "    #                                     trace_kwargs=dict(marker=dict(color=\"red\", size = 12), \n",
    "    #                                                     name=\"Exits\") \n",
    "    #                                     )\n",
    "\n",
    "    ## Add Entries and Long Exits on RSI in lower subplot\n",
    "    # entries.vbt.signals.plot_as_entries(rsi, fig = fig,\n",
    "    #                                          add_trace_kwargs=dict(row=2, col=1),\n",
    "    #                                          trace_kwargs=dict(marker=dict(color=\"limegreen\"),showlegend = False))  \n",
    "\n",
    "    # exits.vbt.signals.plot_as_exits(rsi, fig = fig,showlegend = False,\n",
    "    #                                      add_trace_kwargs=dict(row=2, col=1),\n",
    "    #                                      trace_kwargs=dict(marker=dict(color=\"red\"),showlegend = False))\n",
    "\n",
    "    ## Dotted Lines for Long Trades\n",
    "    # x_axis_long_entries = long_trades['Entry Index'].map(lambda x : x.replace(microsecond=0))\n",
    "    # y_axis_long_entries = long_trades['Avg Entry Price'].values\n",
    "    # x_axis_long_exits = long_trades['Exit Index'].map(lambda x : x.replace(microsecond=0))\n",
    "    # y_axis_long_exits = long_trades['Avg Exit Price'].values\n",
    "\n",
    "    # for entry_time, entry_price, exit_time, exit_price in zip(x_axis_long_entries, y_axis_long_entries, \n",
    "    #                                                             x_axis_long_exits, y_axis_long_exits):\n",
    "    #     fig.add_shape(type=\"line\",x0=entry_time, y0=entry_price, \n",
    "    #                                 x1=exit_time, y1=exit_price,\n",
    "    #                                 line=dict(color=\"aquamarine\",width=2,dash=\"dot\"))\n",
    "\n",
    "    ## Dotted Lines for Short Trades\n",
    "    # x_axis_short_entries = short_trades['Entry Index'].map(lambda x : x.replace(microsecond=0))\n",
    "    # y_axis_short_entries = short_trades['Avg Entry Price'].values\n",
    "    # x_axis_short_exits = short_trades['Exit Index'].map(lambda x : x.replace(microsecond=0))\n",
    "    # y_axis_short_exits = short_trades['Avg Exit Price'].values\n",
    "\n",
    "    # for entry_time, entry_price, exit_time, exit_price in zip(x_axis_short_entries, y_axis_short_entries, \n",
    "    #                                                             x_axis_short_exits, y_axis_short_exits):\n",
    "    #     fig.add_shape(type=\"line\",x0=entry_time, y0=entry_price, \n",
    "    #                                 x1=exit_time, y1=exit_price,\n",
    "    #                                 line=dict(color=\"magenta\",width=2, dash=\"dot\")) \n",
    "\n",
    "    fig.update_xaxes(rangebreaks=[dict(values=dt_breaks)])\n",
    "    fig.layout.showlegend = show_legend  \n",
    "    # fig.write_html(f\"2BB_Strategy_{slice_lower}_to_{slice_upper}.html\")\n",
    "    \n",
    "    return fig"
   ]
  },
  {
   "cell_type": "code",
   "execution_count": null,
   "id": "83a3365c",
   "metadata": {},
   "outputs": [],
   "source": [
    "pf_2_bb_custom.trade_history"
   ]
  },
  {
   "cell_type": "code",
   "execution_count": null,
   "id": "a8f77a7f",
   "metadata": {},
   "outputs": [],
   "source": [
    "df_trades = pf_2_bb_custom.trades.records_readable\n",
    "df_trades"
   ]
  },
  {
   "cell_type": "code",
   "execution_count": null,
   "id": "552aa799",
   "metadata": {},
   "outputs": [],
   "source": [
    "long_trades = df_trades[['Position Id','Entry Index', 'Avg Entry Price', 'Exit Index', 'Avg Exit Price' , 'Direction' ,'PnL', 'Return']][df_trades['Direction'] == \"Long\"].set_index('Entry Index')#.squeeze()\n",
    "short_trades = df_trades[['Position Id','Entry Index', 'Avg Entry Price', 'Exit Index', 'Avg Exit Price', 'Direction' ,'PnL', 'Return']][df_trades['Direction'] == \"Short\"].set_index('Entry Index')#.squeeze()"
   ]
  },
  {
   "cell_type": "code",
   "execution_count": null,
   "id": "fc23a3f7",
   "metadata": {},
   "outputs": [],
   "source": [
    "len(long_trades), len(short_trades)"
   ]
  },
  {
   "cell_type": "code",
   "execution_count": null,
   "id": "afdc2bda",
   "metadata": {},
   "outputs": [],
   "source": [
    "slice_lower = '2019.09.01'\n",
    "slice_higher = '2020.01.31'"
   ]
  },
  {
   "cell_type": "code",
   "execution_count": null,
   "id": "52cce7f2",
   "metadata": {},
   "outputs": [],
   "source": [
    "## from VBT Pro - develop branch\n",
    "# pf_2_bb_custom.plot_trade_signals()"
   ]
  },
  {
   "cell_type": "code",
   "execution_count": null,
   "id": "b5bf7535",
   "metadata": {},
   "outputs": [],
   "source": [
    "## from VBT Pro - develop branch\n",
    "pf_2_bb_custom[slice_lower:slice_higher].plot_trade_signals(plot_close=False, plot_positions=\"lines\").show()"
   ]
  },
  {
   "cell_type": "code",
   "execution_count": null,
   "id": "05f2324e",
   "metadata": {},
   "outputs": [],
   "source": [
    "## If you don't add .show() - white border will be present\n",
    "pf_2_bb_custom.trades[slice_lower : slice_higher].plot(plot_close = False)"
   ]
  },
  {
   "cell_type": "markdown",
   "id": "a7382636",
   "metadata": {},
   "source": [
    "API Documentation:\n",
    "```python\n",
    "Trades.plot(\n",
    "    column=None,\n",
    "    plot_ohlc=True,\n",
    "    plot_close=True,\n",
    "    plot_markers=True,\n",
    "    plot_zones=True,\n",
    "    ohlc_type=None,\n",
    "    ohlc_trace_kwargs=None,\n",
    "    close_trace_kwargs=None,\n",
    "    entry_trace_kwargs=None,\n",
    "    exit_trace_kwargs=None,\n",
    "    exit_profit_trace_kwargs=None,\n",
    "    exit_loss_trace_kwargs=None,\n",
    "    active_trace_kwargs=None,\n",
    "    profit_shape_kwargs=None,\n",
    "    loss_shape_kwargs=None,\n",
    "    add_trace_kwargs=None,\n",
    "    xref='x',\n",
    "    yref='y',\n",
    "    fig=None,\n",
    "    **layout_kwargs\n",
    ")\n",
    "```"
   ]
  },
  {
   "cell_type": "code",
   "execution_count": null,
   "id": "5399983e",
   "metadata": {},
   "outputs": [],
   "source": [
    "## Add Marker Style for Long Entries and Long Exits\n",
    "long_entry_marker_style = dict(color=\"limegreen\",symbol=\"triangle-up\",size = 12)\n",
    "long_exit_marker_style_zero = dict(color=\"red\", symbol=\"square-open\", size = 12)\n",
    "long_exit_marker_style_profit = dict(color=\"red\", symbol=\"triangle-down\", size = 12)\n",
    "long_exit_marker_style_loss = dict(color=\"red\", symbol=\"circle-open-dot\", size = 12)"
   ]
  },
  {
   "cell_type": "code",
   "execution_count": null,
   "id": "559c72d9",
   "metadata": {},
   "outputs": [],
   "source": [
    "## Long Entries and Long Exits - entry_trace_kwargs and exit_trace_kwargs NOT WORKING\n",
    "pf_2_bb_custom.trades.direction_long[slice_lower : slice_higher].plot(\n",
    "                                        plot_close = False,\n",
    "                                        entry_trace_kwargs = dict(name = \"Long Entries\", marker = long_entry_marker_style),\n",
    "                                        exit_trace_kwargs = dict(name = \"Long Exits BreakEven\", marker = long_exit_marker_style_zero),\n",
    "                                        exit_profit_trace_kwargs = dict(name = \"Long Exits Profit\", marker = long_exit_marker_style_profit),\n",
    "                                        exit_loss_trace_kwargs = dict(name = \"Long Exits Loss\", marker = long_exit_marker_style_loss),\n",
    "                                                        ).show()"
   ]
  },
  {
   "cell_type": "code",
   "execution_count": null,
   "id": "1a7f7269",
   "metadata": {},
   "outputs": [],
   "source": [
    "## Add Marker Style for Short Entries and Short Exits\n",
    "shot_entry_marker_style = dict(color=\"limegreen\",symbol=\"triangle-down\",size = 12)\n",
    "short_exit_marker_style_zero = dict(color=\"red\", symbol=\"square-open\", size = 12)\n",
    "short_exit_marker_style_profit = dict(color=\"red\", symbol=\"triangle-up\", size = 12)\n",
    "short_exit_marker_style_loss = dict(color=\"red\", symbol=\"circle-open-dot\", size = 12)"
   ]
  },
  {
   "cell_type": "code",
   "execution_count": null,
   "id": "8170c365",
   "metadata": {},
   "outputs": [],
   "source": [
    "pf_2_bb_custom.trades.direction_short[slice_lower : slice_higher].plot(\n",
    "    plot_close = False,\n",
    "    # plot_zones = False,\n",
    "    # exit_profit_trace_kwargs = dict(visible = False),\n",
    "    # exit_loss_trace_kwargs = dict(visible = False),\n",
    "    entry_trace_kwargs = dict(name = \"Short Entries\", marker = shot_entry_marker_style),\n",
    "    exit_trace_kwargs = dict(name = \"Short Exits BreakEven\", marker = short_exit_marker_style_zero),\n",
    "    exit_profit_trace_kwargs = dict(name = \"Short Exits Profit\", marker = short_exit_marker_style_profit),\n",
    "    exit_loss_trace_kwargs = dict(name = \"Short Exits Loss\", marker = short_exit_marker_style_loss),\n",
    ").show()"
   ]
  },
  {
   "cell_type": "code",
   "execution_count": null,
   "id": "f4fdb260",
   "metadata": {},
   "outputs": [],
   "source": [
    "slice_lower = '2019.09.01'\n",
    "slice_higher = '2019.12.31'\n",
    "\n",
    "fig = plot_strategy(slice_lower, slice_higher, h4_df, h4_rsi, \n",
    "                           h4_bbands, h4_bbands_rsi, \n",
    "                           clean_h4_entries, clean_h4_exits, \n",
    "                           long_trades, short_trades,\n",
    "                           pf_2_bb_custom,\n",
    "                           show_legend = True)\n",
    "\n",
    "fig.show()"
   ]
  },
  {
   "cell_type": "markdown",
   "id": "03b4c097",
   "metadata": {},
   "source": [
    "### Save final dataframe with consolidated signals and `P&L`"
   ]
  },
  {
   "cell_type": "code",
   "execution_count": null,
   "id": "1da51f59",
   "metadata": {},
   "outputs": [],
   "source": [
    "# mtf_df['cleaned_signal'] = signal\n",
    "mtf_df[\"pnl\"] = pnl_series\n",
    "mtf_df"
   ]
  },
  {
   "cell_type": "code",
   "execution_count": null,
   "id": "b52f46bd",
   "metadata": {},
   "outputs": [],
   "source": [
    "# mtf_df.to_csv(\"2BB_Final_Simulation.csv\", index = False)"
   ]
  },
  {
   "cell_type": "code",
   "execution_count": null,
   "id": "adbce972",
   "metadata": {},
   "outputs": [],
   "source": [
    "mtf_df.columns"
   ]
  }
 ],
 "metadata": {
  "kernelspec": {
   "display_name": "Python 3.10.8 ('vbtdev')",
   "language": "python",
   "name": "python3"
  },
  "language_info": {
   "codemirror_mode": {
    "name": "ipython",
    "version": 3
   },
   "file_extension": ".py",
   "mimetype": "text/x-python",
   "name": "python",
   "nbconvert_exporter": "python",
   "pygments_lexer": "ipython3",
   "version": "3.10.8"
  },
  "vscode": {
   "interpreter": {
    "hash": "8c7281c4072e33cf16282bbacab1a643271e6f6107a6efb215ce9ae1be10692e"
   }
  }
 },
 "nbformat": 4,
 "nbformat_minor": 5
}
