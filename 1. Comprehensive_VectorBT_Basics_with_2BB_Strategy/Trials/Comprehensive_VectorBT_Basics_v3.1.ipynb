{
 "cells": [
  {
   "cell_type": "code",
   "execution_count": null,
   "metadata": {},
   "outputs": [],
   "source": [
    "import numpy as np\n",
    "import pandas as pd\n",
    "import vectorbtpro as vbt"
   ]
  },
  {
   "cell_type": "code",
   "execution_count": null,
   "metadata": {},
   "outputs": [],
   "source": [
    "## Load m1 data\n",
    "m1_data = vbt.HDFData.fetch('../../data/GU_OHLCV_3Y.h5')\n",
    "m1_data.wrapper.index #pandas doaesn't recognise the frequency because of missing timestamps"
   ]
  },
  {
   "cell_type": "code",
   "execution_count": null,
   "metadata": {},
   "outputs": [],
   "source": [
    "m15_data = m1_data.resample('15T')  # Convert 1 minute to 15 mins\n",
    "h1_data = m1_data.resample(\"1h\")    # Convert 1 minute to 1 hour\n",
    "h4_data = m1_data.resample('4h')    # Convert 1 minute to 4 hour"
   ]
  },
  {
   "cell_type": "code",
   "execution_count": null,
   "metadata": {},
   "outputs": [],
   "source": [
    "m15_data.wrapper.index"
   ]
  },
  {
   "cell_type": "code",
   "execution_count": null,
   "metadata": {},
   "outputs": [],
   "source": [
    "# Obtain all the closing  prices using the .get() method\n",
    "m15_close = m15_data.get()['Close']\n",
    "\n",
    "\n",
    "## h1 data\n",
    "h1_open  = h1_data.get()['Open']\n",
    "h1_close = h1_data.get()['Close']\n",
    "h1_high  = h1_data.get()['High']\n",
    "h1_low   = h1_data.get()['Low']\n",
    "\n",
    "## h4 data\n",
    "h4_open  = h4_data.get()['Open']\n",
    "h4_close = h4_data.get()['Close']\n",
    "h4_high  = h4_data.get()['High']\n",
    "h4_low   = h4_data.get()['Low']"
   ]
  },
  {
   "cell_type": "markdown",
   "metadata": {},
   "source": [
    "### Create ( _manually_ ) the indicators for Multi-TimeFrames"
   ]
  },
  {
   "cell_type": "code",
   "execution_count": null,
   "metadata": {},
   "outputs": [],
   "source": [
    "rsi_period = 21\n",
    "\n",
    "## 15m indicators\n",
    "m15_rsi = vbt.talib(\"RSI\", timeperiod = rsi_period).run(m15_data.get(\"Close\"), skipna=True).real\n",
    "m15_bbands = vbt.talib(\"BBANDS\").run(m15_data.get(\"Close\"), skipna=True)\n",
    "m15_bbands_rsi = vbt.talib(\"BBANDS\").run(m15_rsi, skipna=True)\n",
    "\n",
    "\n",
    "## h4 indicators\n",
    "h4_rsi = vbt.talib(\"RSI\", timeperiod = rsi_period).run(h4_data.get(\"Close\"), skipna=True).real\n",
    "h4_bbands = vbt.talib(\"BBANDS\").run(h4_data.get(\"Close\"), skipna=True)\n",
    "h4_bbands_rsi = vbt.talib(\"BBANDS\").run(h4_rsi, skipna=True)"
   ]
  },
  {
   "cell_type": "markdown",
   "metadata": {},
   "source": [
    "### Creating `vbt.Resampler()` for `Upsampling`\n",
    "Upsampling means resampling a higher timeframe (`low frequency`) time series data to lower timeframe (`high frequency`) time series data"
   ]
  },
  {
   "cell_type": "code",
   "execution_count": null,
   "metadata": {},
   "outputs": [],
   "source": [
    "def create_resamplers(result_dict_keys_list : list, source_indices : list,  \n",
    "                      source_frequencies :list, target_index : pd.Series, target_freq : str):\n",
    "    \"\"\"\n",
    "    Creates a dictionary of vbtpro resampler objects.\n",
    "\n",
    "    Parameters\n",
    "    ==========\n",
    "    result_dict_keys_list : list, list of strings, which are keys of the output dictionary\n",
    "    source_indices        : list, list of pd.time series objects of the higher timeframes\n",
    "    source_frequencies    : list, llist(str), which are short form representation of time series order. Eg:[\"1D\", \"4h\"]\n",
    "    target_index          : pd.Series, target time series for the resampler objects\n",
    "    target_freq           : str, target time frequency for the resampler objects\n",
    "\n",
    "    Returns\n",
    "    ===========\n",
    "    resamplers_dict       : dict, vbt pro resampler objects\n",
    "    \"\"\"\n",
    "    \n",
    "    \n",
    "    resamplers = []\n",
    "    for si, sf in zip(source_indices, source_frequencies):\n",
    "        resamplers.append(vbt.Resampler(source_index = si,  target_index = target_index,\n",
    "                                        source_freq = sf, target_freq = target_freq))\n",
    "    return dict(zip(result_dict_keys_list, resamplers))"
   ]
  },
  {
   "cell_type": "code",
   "execution_count": null,
   "metadata": {},
   "outputs": [],
   "source": [
    "## Create Resampler Objects for upsampling\n",
    "src_indices = [m15_close.index, h4_close.index]\n",
    "src_frequencies = [\"15T\", \"4h\"] \n",
    "resampler_dict_keys = [\"m15_m15\", \"h4_m15\"]\n",
    "\n",
    "list_resamplers = create_resamplers(resampler_dict_keys, src_indices, src_frequencies, m15_close.index, \"15T\")\n",
    "\n",
    "list_resamplers"
   ]
  },
  {
   "cell_type": "code",
   "execution_count": null,
   "metadata": {},
   "outputs": [],
   "source": [
    "## Initialize  dictionary\n",
    "data = {}\n",
    "\n",
    "## Use along with  Manual indicator creation method for MTF\n",
    "series_to_resample = [\n",
    "    [m15_close, m15_rsi, m15_bbands.upperband, m15_bbands.middleband, m15_bbands.lowerband, \n",
    "    m15_bbands_rsi.upperband, m15_bbands_rsi.middleband, m15_bbands_rsi.lowerband],\n",
    "    [h4_close, h4_rsi, h4_bbands.upperband, h4_bbands.middleband, h4_bbands.lowerband, \n",
    "    h4_bbands_rsi.upperband, h4_bbands_rsi.middleband, h4_bbands_rsi.lowerband],\n",
    "    ]\n",
    "\n",
    "data_keys = [\n",
    "    [\"m15_close\", \"m15_rsi\", \"m15_bband_price_upper\",  \"m15_bband_price_middle\", \"m15_bband_price_lower\",  \n",
    "                              \"m15_bband_rsi_upper\",  \"m15_bband_rsi_middle\", \"m15_bband_rsi_lower\"], \n",
    "    [\"h4_close\", \"h4_rsi\", \"h4_bband_price_upper\",  \"h4_bband_price_middle\",  \"h4_bband_price_lower\", \n",
    "                            \"h4_bband_rsi_upper\",  \"h4_bband_rsi_middle\", \"h4_bband_rsi_lower\" ],\n",
    "         ]"
   ]
  },
  {
   "cell_type": "code",
   "execution_count": null,
   "metadata": {},
   "outputs": [],
   "source": [
    "## Use this along with Method 1 of indicator creation\n",
    "\n",
    "for lst_series, lst_keys, resampler in zip(series_to_resample, data_keys, resampler_dict_keys):\n",
    "    for key, time_series in zip(lst_keys, lst_series):\n",
    "        resampled_time_series = time_series.vbt.resample_closing(list_resamplers[resampler])\n",
    "        data[key] = resampled_time_series.ffill()"
   ]
  },
  {
   "cell_type": "code",
   "execution_count": null,
   "metadata": {},
   "outputs": [],
   "source": [
    "## Add h4 OLH data - No need to do ffill() on resample_closing as it already does that by default\n",
    "\n",
    "data[\"h4_open\"] = h4_open.vbt.resample_opening(list_resamplers['h4_m15'])#.ffill()\n",
    "data[\"h4_high\"] = h4_high.vbt.resample_closing(list_resamplers['h4_m15'])#.ffill()\n",
    "data[\"h4_low\"]  = h4_low.vbt.resample_closing(list_resamplers['h4_m15'])#.ffill()\n",
    "data[\"h4_close\"] = h4_open.vbt.resample_closing(list_resamplers['h4_m15'])#.ffill()"
   ]
  },
  {
   "cell_type": "code",
   "execution_count": null,
   "metadata": {},
   "outputs": [],
   "source": [
    "cols_order = ['m15_close', 'm15_rsi', 'm15_bband_price_upper','m15_bband_price_middle', 'm15_bband_price_lower',\n",
    "              'm15_bband_rsi_upper','m15_bband_rsi_middle', 'm15_bband_rsi_lower',\n",
    "              'h4_open', 'h4_high', 'h4_low', 'h4_close', 'h4_rsi',\n",
    "              'h4_bband_price_upper', 'h4_bband_price_middle', 'h4_bband_price_lower', \n",
    "              'h4_bband_rsi_upper', 'h4_bband_rsi_middle', 'h4_bband_rsi_lower'\n",
    " ]"
   ]
  },
  {
   "cell_type": "code",
   "execution_count": null,
   "metadata": {},
   "outputs": [],
   "source": [
    "## construct a multi-timeframe dataframe\n",
    "mtf_df = pd.DataFrame(data)[cols_order]\n",
    "print(\"Length of mtf_df:\",len(mtf_df), f'on {mtf_df.index.freq} frequency')\n",
    "display(mtf_df)"
   ]
  },
  {
   "cell_type": "code",
   "execution_count": null,
   "metadata": {},
   "outputs": [],
   "source": [
    "for col in mtf_df.columns:\n",
    "    time_series = mtf_df[col]\n",
    "    print(col,time_series.index.freq, 'length:' ,len(time_series), 'NULL Count:',time_series.isna().sum())"
   ]
  },
  {
   "cell_type": "code",
   "execution_count": null,
   "metadata": {},
   "outputs": [],
   "source": [
    "mtf_df.info()"
   ]
  },
  {
   "cell_type": "markdown",
   "metadata": {},
   "source": [
    "### Double Bollinger Band - Strategy Conditions\n",
    "The trading conditions (rules) of the strategy are as follows:\n",
    "\n",
    "1. A long (buy) signal is generated whenever the H4 market (Low) price goes below its lower Bollinger band, and the 15m RSI goes below its lower Bollinger band.\n",
    "\n",
    "2. A short (sell) signal is generated whenever the H4 market (High) price breaks its upper Bollinger band, and the 15m RSI breaks above its upper Bollinger band."
   ]
  },
  {
   "cell_type": "code",
   "execution_count": null,
   "metadata": {},
   "outputs": [],
   "source": [
    "required_cols = ['m15_close','m15_rsi','m15_bband_rsi_lower', 'm15_bband_rsi_upper',\n",
    "                 'h4_low', \"h4_rsi\", \"h4_bband_price_lower\", \"h4_bband_price_upper\" ]"
   ]
  },
  {
   "cell_type": "code",
   "execution_count": null,
   "metadata": {},
   "outputs": [],
   "source": [
    "## Higher values greater than 1.0 are like moving up the lower RSI b-band, \n",
    "## signifying if the lowerband rsi is anywhere around 1% of the lower b-band validate that case as True\n",
    "bb_upper_fract = 0.99\n",
    "bb_lower_fract = 1.01\n",
    "\n",
    "## Long Entry Conditions\n",
    "c1_long_entry = (mtf_df['h4_low'] <= mtf_df['h4_bband_price_lower'])\n",
    "c2_long_entry = (mtf_df['m15_rsi'] <= (bb_lower_fract * mtf_df['m15_bband_rsi_lower']) )\n",
    "\n",
    "\n",
    "## Long Exit Conditions\n",
    "c1_long_exit =  (mtf_df['h4_high'] >= mtf_df['h4_bband_price_upper'])\n",
    "c2_long_exit = (mtf_df['m15_rsi'] >= (bb_upper_fract * mtf_df['m15_bband_rsi_upper'])) "
   ]
  },
  {
   "cell_type": "code",
   "execution_count": null,
   "metadata": {},
   "outputs": [],
   "source": [
    "mtf_df[required_cols][c1_long_entry]"
   ]
  },
  {
   "cell_type": "code",
   "execution_count": null,
   "metadata": {},
   "outputs": [],
   "source": [
    "mtf_df[required_cols][c2_long_entry]"
   ]
  },
  {
   "cell_type": "code",
   "execution_count": null,
   "metadata": {},
   "outputs": [],
   "source": [
    "## Strategy conditions check - Using m15 and h4 data \n",
    "mtf_df['entry'] = c1_long_entry & c2_long_entry\n",
    "mtf_df['exit']  = c1_long_exit & c2_long_exit"
   ]
  },
  {
   "cell_type": "code",
   "execution_count": null,
   "metadata": {},
   "outputs": [],
   "source": [
    "mtf_df['signal'] = 0   \n",
    "mtf_df['signal'] = np.where( mtf_df['entry'], 1, 0)\n",
    "mtf_df['signal'] = np.where( mtf_df['exit'] , -1, mtf_df['signal'])"
   ]
  },
  {
   "cell_type": "markdown",
   "metadata": {},
   "source": [
    "### Run Portfolio backtesting Simulation using `pf.from_signals()`"
   ]
  },
  {
   "cell_type": "code",
   "execution_count": null,
   "metadata": {},
   "outputs": [],
   "source": [
    "entries = mtf_df.signal == 1.0\n",
    "exits = mtf_df.signal == -1.0"
   ]
  },
  {
   "cell_type": "code",
   "execution_count": null,
   "metadata": {},
   "outputs": [],
   "source": [
    "pf = vbt.Portfolio.from_signals(\n",
    "    close = mtf_df['m15_close'], \n",
    "    entries = entries, \n",
    "    exits = exits, \n",
    "    direction = \"both\", ## This setting trades both long and short signals\n",
    "    freq = pd.Timedelta(minutes=5), \n",
    "    init_cash = 100000\n",
    ")"
   ]
  },
  {
   "cell_type": "code",
   "execution_count": null,
   "metadata": {},
   "outputs": [],
   "source": [
    "pf.stats()"
   ]
  },
  {
   "cell_type": "code",
   "execution_count": null,
   "metadata": {},
   "outputs": [],
   "source": [
    "pf.trade_history"
   ]
  },
  {
   "cell_type": "code",
   "execution_count": null,
   "metadata": {},
   "outputs": [],
   "source": [
    "## Global Plot Settings\n",
    "vbt.settings.set_theme(\"dark\")\n",
    "vbt.settings['plotting']['layout']['width'] = 1280"
   ]
  },
  {
   "cell_type": "markdown",
   "metadata": {},
   "source": [
    "### Plotting - Portfolio Simulations"
   ]
  },
  {
   "cell_type": "code",
   "execution_count": null,
   "metadata": {},
   "outputs": [],
   "source": [
    "pf.plot().show() ## This takes slightly long (10 secs) as it uses 15m timeframe\n",
    "# pf.resample(\"1d\").plot().show()"
   ]
  },
  {
   "cell_type": "code",
   "execution_count": null,
   "metadata": {},
   "outputs": [],
   "source": [
    "## We can also isolate pf.orders from the above pf.plot\n",
    "pf.orders.resample(\"1d\").plot(xaxis=dict(rangeslider_visible=False),**{\"title_text\" : \"Orders - Stats & Plot\", \n",
    "                                                                       \"title_font_size\" : 18}).show()"
   ]
  },
  {
   "cell_type": "code",
   "execution_count": null,
   "metadata": {},
   "outputs": [],
   "source": [
    "print(f\"Max Drawdown [%]: {pf.stats()['Max Drawdown [%]']}\")\n",
    "print(f\"Max Drawdown Duration: {pf.stats()['Max Drawdown Duration']}\")\n",
    "## Drawdown plot below shows top 5 drawdowns and 94 days of max drawdown duration includes\n",
    "## 73 days for the declination phasd and 21 days for the recovery phase the max. peak drawdown\n",
    "pf.drawdowns.plot(**{\"title_text\" : \"Drawdowns Plot\"}).show()"
   ]
  },
  {
   "cell_type": "code",
   "execution_count": null,
   "metadata": {},
   "outputs": [],
   "source": [
    "## Documentation Reference to adjust title : https://plotly.com/python/reference/layout/\n",
    "pf.plot_underwater(**{\"title_text\" : \"Underwater Plot\",'title_x': 0.5}).show()"
   ]
  },
  {
   "cell_type": "markdown",
   "metadata": {},
   "source": [
    "### Plotting - Indicators and visualizing strategy"
   ]
  },
  {
   "cell_type": "code",
   "execution_count": null,
   "metadata": {},
   "outputs": [],
   "source": [
    "def plot_strategy(slice_lower : str, slice_upper: str, df : pd.DataFrame , rsi : pd.Series,\n",
    "                         bb_price : vbt.indicators.factory, bb_rsi : vbt.indicators.factory,  \n",
    "                         pf: vbt.portfolio.base.Portfolio,\n",
    "                         show_legend : bool = True):\n",
    "    \"\"\"Creates a stacked indicator plot for the 2BB strategy.\n",
    "    Parameters\n",
    "    ===========\n",
    "    slice_lower : str, start date of dataframe slice in yyyy.mm.dd format\n",
    "    slice_upper : str, start date of dataframe slice in yyyy.mm.dd format\n",
    "    df          : pd.DataFrame, containing the OHLCV data\n",
    "    rsi         : pd.Series, rsi indicator time series in same freq as df\n",
    "    bb_price    : vbt.indicators.factory.talib('BBANDS'), computed on df['close'] price\n",
    "    bb_rsi      : vbt.indicators.factory.talib('BBANDS') computer on RSI\n",
    "    pf          : vbt.portfolio.base.Portfolio, portfolio simulation object from VBT Pro\n",
    "    show_legend : bool, switch to show or completely hide the legend box on the plot\n",
    "    \n",
    "    Returns\n",
    "    =======\n",
    "    fig         : plotly figure object\n",
    "    \"\"\"\n",
    "    kwargs1 = {\"title_text\" : \"H4 OHLCV with BBands on Price and RSI\", \n",
    "               \"title_font_size\" : 18,\n",
    "               \"height\" : 960,\n",
    "               \"legend\" : dict(yanchor=\"top\",y=0.99, xanchor=\"left\",x= 0.1)}\n",
    "    fig = vbt.make_subplots(rows=2,cols=1, shared_xaxes=True, vertical_spacing=0.1)\n",
    "    ## Filter Data according to date slice\n",
    "    df_slice = df[[\"Open\", \"High\", \"Low\", \"Close\"]][slice_lower : slice_upper]\n",
    "    bb_price = bb_price[slice_lower : slice_upper]\n",
    "    rsi = rsi[slice_lower : slice_upper]\n",
    "    bb_rsi = bb_rsi[slice_lower : slice_upper]\n",
    "\n",
    "    ## Retrieve datetime index of rows where price data is NULL\n",
    "    # retrieve the dates that are in the original datset\n",
    "    dt_obs = df_slice.index.to_list()\n",
    "    # Drop rows with missing values\n",
    "    dt_obs_dropped = df_slice['Close'].dropna().index.to_list()\n",
    "    # store  dates with missing values\n",
    "    dt_breaks = [d for d in dt_obs if d not in dt_obs_dropped]\n",
    "\n",
    "    ## Plot Figures\n",
    "    df_slice.vbt.ohlcv.plot(add_trace_kwargs=dict(row=1, col=1),  fig=fig, **kwargs1) ## Without Range Slider\n",
    "    rsi.rename(\"RSI\").vbt.plot(add_trace_kwargs=dict(row=2, col=1), trace_kwargs = dict(connectgaps=True), fig=fig) \n",
    "\n",
    "    bb_line_style = dict(color=\"white\",width=1, dash=\"dot\")\n",
    "    bb_price.plot(add_trace_kwargs=dict(row=1, col=1),fig=fig, **kwargs1,\n",
    "                lowerband_trace_kwargs=dict(fill=None, name = 'BB_Price_Lower', connectgaps=True, line = bb_line_style), \n",
    "                upperband_trace_kwargs=dict(fill=None, name = 'BB_Price_Upper', connectgaps=True, line = bb_line_style),\n",
    "                middleband_trace_kwargs=dict(fill=None, name = 'BB_Price_Middle', connectgaps=True) )\n",
    "\n",
    "    bb_rsi.plot(add_trace_kwargs=dict(row=2, col=1),limits=(25, 75),fig=fig,\n",
    "                lowerband_trace_kwargs=dict(fill=None, name = 'BB_RSI_Lower', connectgaps=True,line = bb_line_style), \n",
    "                upperband_trace_kwargs=dict(fill=None, name = 'BB_RSI_Upper', connectgaps=True,line = bb_line_style),\n",
    "                middleband_trace_kwargs=dict(fill=None, name = 'BB_RSI_Middle', connectgaps=True, visible = False))\n",
    "    \n",
    "    ## Plots Long Entries / Exits and Short Entries / Exits\n",
    "    # pf[slice_lower:slice_upper].plot_trade_signals(add_trace_kwargs=dict(row=1, col=1),fig=fig,\n",
    "    #                                                plot_close=False, plot_positions=\"lines\")\n",
    "\n",
    "    ## Plot Trade Profit or Loss Boxes\n",
    "    pf.trades.direction_long[slice_lower : slice_upper].plot(\n",
    "                                        add_trace_kwargs=dict(row=1, col=1),fig=fig,\n",
    "                                        plot_close = False,\n",
    "                                        plot_markers = False\n",
    "                                        )\n",
    "                                        \n",
    "\n",
    "    pf.trades.direction_short[slice_lower : slice_upper].plot(\n",
    "                                            add_trace_kwargs=dict(row=1, col=1),fig=fig,\n",
    "                                            plot_close = False,\n",
    "                                            plot_markers = False\n",
    "                                            )\n",
    "\n",
    "\n",
    "    fig.update_xaxes(rangebreaks=[dict(values=dt_breaks)])\n",
    "    fig.layout.showlegend = show_legend  \n",
    "    # fig.write_html(f\"2BB_Strategy_{slice_lower}_to_{slice_upper}.html\")\n",
    "    \n",
    "    return fig"
   ]
  },
  {
   "cell_type": "code",
   "execution_count": null,
   "metadata": {},
   "outputs": [],
   "source": [
    "slice_lower = '2019.11.01'\n",
    "slice_higher = '2019.12.31'\n",
    "\n",
    "fig = plot_strategy(slice_lower, slice_higher, h4_data.get(), h4_rsi, \n",
    "                           h4_bbands, h4_bbands_rsi, pf,\n",
    "                           show_legend = True)\n",
    "\n",
    "fig.show()"
   ]
  },
  {
   "cell_type": "code",
   "execution_count": null,
   "metadata": {},
   "outputs": [],
   "source": [
    "## Inspecting PnL Series - series length filtered by notna() should equal to the nr. of trades\n",
    "print(f\"Total Nr. of Trades: {pf.stats()['Total Orders']}\")\n",
    "pnl_series = pf.trades.pnl.to_pd()\n",
    "pnl_series[pnl_series.notna()]"
   ]
  },
  {
   "cell_type": "code",
   "execution_count": null,
   "metadata": {},
   "outputs": [],
   "source": [
    "mtf_df[\"pnl\"] = pnl_series\n",
    "mtf_df"
   ]
  }
 ],
 "metadata": {
  "kernelspec": {
   "display_name": "Python 3.10.6 ('vbt')",
   "language": "python",
   "name": "python3"
  },
  "language_info": {
   "codemirror_mode": {
    "name": "ipython",
    "version": 3
   },
   "file_extension": ".py",
   "mimetype": "text/x-python",
   "name": "python",
   "nbconvert_exporter": "python",
   "pygments_lexer": "ipython3",
   "version": "3.10.6"
  },
  "orig_nbformat": 4,
  "vscode": {
   "interpreter": {
    "hash": "553d3b352623cb609a2efe4df91242fdc89d5ebcee56d9279e2aa2c11b529c13"
   }
  }
 },
 "nbformat": 4,
 "nbformat_minor": 2
}
