{
 "cells": [
  {
   "cell_type": "code",
   "execution_count": null,
   "id": "7237df73",
   "metadata": {},
   "outputs": [],
   "source": [
    "import numpy as np\n",
    "import pandas as pd\n",
    "import vectorbtpro as vbt"
   ]
  },
  {
   "cell_type": "code",
   "execution_count": null,
   "id": "8008d54d",
   "metadata": {},
   "outputs": [],
   "source": [
    "## Load m1 data\n",
    "m1_data = vbt.HDFData.fetch('../../data/GU_OHLCV_3Y.h5')\n",
    "m1_data.wrapper.index #pandas doaesn't recognise the frequency because of missing timestamps"
   ]
  },
  {
   "cell_type": "code",
   "execution_count": null,
   "id": "42a14e16",
   "metadata": {},
   "outputs": [],
   "source": [
    "m5_data  = m1_data.resample('5T')   # Convert 1 Minute to 5 Minute\n",
    "m15_data = m1_data.resample('15T')  # Convert 1 Minute to 15 Minute\n",
    "m30_data = m1_data.resample('30T')  # Convert 1 Minute to 30 Minute\n",
    "h1_data = m1_data.resample(\"1h\")    # Convert 1 Minute to 1 hour\n",
    "h4_data = m1_data.resample(\"4h\")    # Convert 1 Minute to 4 hour\n",
    "d1_data = m1_data.resample(\"1d\")    # Convert 1 Minute to daily"
   ]
  },
  {
   "cell_type": "code",
   "execution_count": null,
   "id": "bbf96bc8",
   "metadata": {},
   "outputs": [],
   "source": [
    "# Obtain all the closing  prices using the .get() method\n",
    "m5_close = m5_data.get()['Close']\n",
    "m15_close = m15_data.get()['Close']\n",
    "\n",
    "##m30 data\n",
    "m30_open  = m30_data.get()['Open']\n",
    "m30_close = m30_data.get()['Close']\n",
    "m30_high  = m30_data.get()['High']\n",
    "m30_low   = m30_data.get()['Low']\n",
    "\n",
    "## h1 data\n",
    "h1_open  = h1_data.get()['Open']\n",
    "h1_close = h1_data.get()['Close']\n",
    "h1_high  = h1_data.get()['High']\n",
    "h1_low   = h1_data.get()['Low']\n",
    "\n",
    "## h4 data\n",
    "h4_open  = h4_data.get()['Open']\n",
    "h4_close = h4_data.get()['Close']\n",
    "h4_high  = h4_data.get()['High']\n",
    "h4_low   = h4_data.get()['Low']\n",
    "\n",
    "## 1D data\n",
    "d1_open  = d1_data.get()['Open']\n",
    "d1_close = d1_data.get()['Close']\n",
    "d1_high  = d1_data.get()['High']\n",
    "d1_low   = d1_data.get()['Low']"
   ]
  },
  {
   "cell_type": "markdown",
   "id": "d536eb71",
   "metadata": {},
   "source": [
    "### Creating the Indicators for multi-timeframes"
   ]
  },
  {
   "cell_type": "markdown",
   "id": "766991ae",
   "metadata": {},
   "source": [
    "**Note** : The method of indicator creation shown below using `talib('IndicatorName').run` with `broadcast_kwargs` argument automatically does the [`ffill()` operation](https://github.com/polakowo/vectorbt.pro/blob/df5370824c9368406c0a06ddd0befeb56727e4c4/vectorbtpro/indicators/factory.py#L2868)"
   ]
  },
  {
   "cell_type": "code",
   "execution_count": null,
   "id": "cd542a53",
   "metadata": {},
   "outputs": [],
   "source": [
    "rsi_period = 21\n",
    "\n",
    "## Method 2 - Alternate fancier method of constructing indicator data for MTF data\n",
    "rsi = vbt.talib(\"RSI\", timeperiod = rsi_period).run(m5_close, skipna=True,\n",
    "                                                   timeframe=['5T','15T' ,'30T','1h','4h'],#,'1d'],\n",
    "                                                   broadcast_kwargs=dict(wrapper_kwargs=dict(freq=\"5T\"))).real\n",
    "                                                   \n",
    "\n",
    "bbands_price = vbt.talib(\"BBANDS\").run(m5_close, skipna=True, \n",
    "                                        timeframe=['5T','15T' ,'30T','1h','4h'],#,'1d'], \n",
    "                                        broadcast_kwargs=dict(wrapper_kwargs=dict(freq=\"5T\")))\n",
    "\n",
    "## Using m5_rsi also gives the same result\n",
    "bbands_rsi = vbt.talib(\"BBANDS\").run(rsi['5T'], skipna=True,\n",
    "                                    # per_column = True,\n",
    "                                    timeframe=['5T','15T' ,'30T','1h','4h'],#,'1d'], \n",
    "                                    broadcast_kwargs=dict(wrapper_kwargs=dict(freq=\"5T\")))"
   ]
  },
  {
   "cell_type": "markdown",
   "id": "7468e687",
   "metadata": {},
   "source": [
    "### Resample and creating a multi-time frame dataframe"
   ]
  },
  {
   "cell_type": "markdown",
   "id": "a6f08e6a",
   "metadata": {},
   "source": [
    "Upsampling higher timeframe (`low frequency`) data to lower timeframe (`high frequency`) data"
   ]
  },
  {
   "cell_type": "code",
   "execution_count": null,
   "id": "b9997dcc",
   "metadata": {},
   "outputs": [],
   "source": [
    "def create_resamplers(result_dict_keys_list : list, source_indices : list,  source_frequencies :list, target_index : pd.Series, target_freq : str):\n",
    "    \"\"\"\n",
    "    Creates a dictionary of vbtpro resampler objects.\n",
    "\n",
    "    Parameters\n",
    "    ==========\n",
    "    result_dict_keys_list : list, list of strings, which are keys of the output dictionary\n",
    "    source_indices        : list, list of pd.time series objects of the higher timeframes\n",
    "    source_frequencies    : list, list of strings, which are short form representation of the time series order. Eg:[\"1D\", \"4h\"]\n",
    "    target_index          : pd.Series, target time series for the resampler objects\n",
    "    target_freq           : str, target time frequency for the resampler objects\n",
    "                            use the 1st frequency in source_frequencies list\n",
    "\n",
    "    Returns\n",
    "    ===========\n",
    "    \n",
    "    resamplers_dict       : dict, vbt pro resampler objects\n",
    "    \n",
    "    \"\"\"\n",
    "    \n",
    "    \n",
    "    resamplers = []\n",
    "    for si, sf in zip(source_indices, source_frequencies):\n",
    "        resamplers.append(vbt.Resampler(source_index = si,  target_index = target_index,  source_freq=sf, target_freq=target_freq))\n",
    "    return dict(zip(result_dict_keys_list, resamplers))"
   ]
  },
  {
   "cell_type": "code",
   "execution_count": null,
   "id": "3b3c89f1",
   "metadata": {},
   "outputs": [],
   "source": [
    "## Create Resampler Objects for upsampling\n",
    "src_indices = [m15_close.index, m30_close.index, h1_close.index, h4_close.index ] # , d1_close.index\n",
    "src_frequencies = [\"15T\", \"30T\", \"1h\", \"4h\"] #, \"1D\"\n",
    "resampler_dict_keys = [\"m15_m5\", \"m30_m5\", \"h1_m5\", \"h4_m5\"] #, \"d1_m5\"\n",
    "\n",
    "list_resamplers = create_resamplers(resampler_dict_keys, src_indices, src_frequencies, m5_close.index, \"5T\")\n",
    "# list_resamplers = create_resamplers(resampler_dict_keys, src_indices, src_frequencies, m15_close.index, \"15T\")\n",
    "list_resamplers"
   ]
  },
  {
   "cell_type": "code",
   "execution_count": null,
   "id": "ef7cfa2b",
   "metadata": {},
   "outputs": [],
   "source": [
    "## Initialize  dictionary\n",
    "data = {}\n",
    "# data = {\"m5_close\" : m5_close.ffill(), \"m5_rsi\" : rsi['5T'], \n",
    "#         \"m5_bband_price_upper\" : bbands_price['5T'].upperband,  \"m5_bband_price_middle\" : bbands_price['5T'].middleband,  \"m5_bband_price_lower\" : bbands_price['5T'].lowerband,\n",
    "#         \"m5_bband_rsi_upper\" : bbands_rsi['5T'].upperband,  \"m5_bband_rsi_middle\" : bbands_rsi['5T'].middleband, \"m5_bband_rsi_lower\" : bbands_rsi['5T'].lowerband \n",
    "#         }"
   ]
  },
  {
   "cell_type": "code",
   "execution_count": null,
   "id": "71d47402",
   "metadata": {},
   "outputs": [],
   "source": [
    "## Use along with method 1\n",
    "series_to_resample = [\n",
    "    # [m5_close],\n",
    "    [m15_close],\n",
    "    [m30_close],\n",
    "    [h1_open, h1_high, h1_low, h1_close],\n",
    "    [h4_open, h4_high, h4_low, h4_close],\n",
    "    # [d1_close]\n",
    "    ]\n",
    "\n",
    "\n",
    "data_keys = [\n",
    "    # [\"m5_close\"],\n",
    "    [\"m15_close\"], \n",
    "    [\"m30_close\"],\n",
    "    [\"h1_open\", \"h1_high\", \"h1_low\" ,\"h1_close\"], \n",
    "    [\"h4_open\", \"h4_high\", \"h4_low\" ,\"h4_close\"],\n",
    "    # [\"d1_close\"]\n",
    "         ]"
   ]
  },
  {
   "cell_type": "code",
   "execution_count": null,
   "id": "c01d5632",
   "metadata": {},
   "outputs": [],
   "source": [
    "## Just resample OHLC prices (upsampling) of higher timeframes to 5min frequency\n",
    "\n",
    "for lst_series, lst_keys, resampler in zip(series_to_resample, data_keys, resampler_dict_keys):\n",
    "    for key, time_series in zip(lst_keys, lst_series):\n",
    "        if key.lower().endswith('open'):\n",
    "            print('Resampling',key,'differently using vbt.resample_opening')\n",
    "            resampled_time_series = time_series.vbt.resample_opening(list_resamplers[resampler])\n",
    "        else:\n",
    "            resampled_time_series = time_series.vbt.resample_closing(list_resamplers[resampler])\n",
    "        data[key] = resampled_time_series#.ffill()"
   ]
  },
  {
   "cell_type": "code",
   "execution_count": null,
   "id": "35b813c3",
   "metadata": {},
   "outputs": [],
   "source": [
    "## Assign key, value pairs for method 2 of Automated One-liner MTF indicator creation method\n",
    "col_values = [\n",
    "    [rsi['15T'], bbands_price['15T'].upperband, bbands_price['15T'].middleband, bbands_price['15T'].lowerband, bbands_rsi['15T'].upperband, bbands_rsi['15T'].middleband, bbands_rsi['15T'].lowerband],\n",
    "    [rsi['30T'], bbands_price['30T'].upperband, bbands_price['30T'].middleband, bbands_price['30T'].lowerband, bbands_rsi['30T'].upperband, bbands_rsi['30T'].middleband, bbands_rsi['30T'].lowerband],\n",
    "    [rsi['1h'], bbands_price['1h'].upperband, bbands_price['1h'].middleband, bbands_price['1h'].lowerband, bbands_rsi['1h'].upperband, bbands_rsi['1h'].middleband, bbands_rsi['1h'].lowerband],\n",
    "    [rsi['4h'], bbands_price['4h'].upperband, bbands_price['4h'].middleband, bbands_price['4h'].lowerband, bbands_rsi['4h'].upperband, bbands_rsi['4h'].middleband, bbands_rsi['4h'].lowerband],\n",
    "    # [rsi['1d'], bbands_price['1d'].upperband, bbands_price['1d'].middleband, bbands_price['1d'].lowerband, bbands_rsi['1d'].upperband, bbands_rsi['1d'].middleband, bbands_rsi['1d'].lowerband]\n",
    "    ]\n",
    "\n",
    "\n",
    "col_keys = [\n",
    "    [\"m15_rsi\", \"m15_bband_price_upper\",  \"m15_bband_price_middle\", \"m15_bband_price_lower\",  \"m15_bband_rsi_upper\",  \"m15_bband_rsi_middle\", \"m15_bband_rsi_lower\"], \n",
    "    [\"m30_rsi\", \"m30_bband_price_upper\",  \"m30_bband_price_middle\", \"m30_bband_price_lower\",  \"m30_bband_rsi_upper\",  \"m30_bband_rsi_middle\", \"m30_bband_rsi_lower\"],\n",
    "    [\"h1_rsi\", \"h1_bband_price_upper\",  \"h1_bband_price_middle\",  \"h1_bband_price_lower\",  \"h1_bband_rsi_upper\",  \"h1_bband_rsi_middle\", \"h1_bband_rsi_lower\" ],\n",
    "    [\"h4_rsi\", \"h4_bband_price_upper\",  \"h4_bband_price_middle\",  \"h4_bband_price_lower\",  \"h4_bband_rsi_upper\",  \"h4_bband_rsi_middle\", \"h4_bband_rsi_lower\" ],\n",
    "    # [\"d1_rsi\", \"d1_bband_price_upper\",  \"d1_bband_price_middle\",  \"d1_bband_price_lower\",  \"d1_bband_rsi_upper\",  \"d1_bband_rsi_middle\", \"d1_bband_rsi_lower\" ]\n",
    "         ]"
   ]
  },
  {
   "cell_type": "code",
   "execution_count": null,
   "id": "fdb1b1c5",
   "metadata": {},
   "outputs": [],
   "source": [
    "## Assign key, value pairs for method 2 of Automated One-liner MTF indicator creation method\n",
    "for lst_series, lst_keys in zip(col_values, col_keys):\n",
    "    for key, time_series in zip(lst_keys, lst_series):\n",
    "        data[key] = time_series"
   ]
  },
  {
   "cell_type": "markdown",
   "id": "aa99f389",
   "metadata": {},
   "source": [
    "Constructing DataFrame of Multi-Time Frame Data"
   ]
  },
  {
   "cell_type": "code",
   "execution_count": null,
   "id": "2e5edaea",
   "metadata": {},
   "outputs": [],
   "source": [
    "cols_order = [\n",
    "    # 'm5_close','m5_rsi','m5_bband_price_upper','m5_bband_price_middle','m5_bband_price_lower','m5_bband_rsi_upper','m5_bband_rsi_middle','m5_bband_rsi_lower',\n",
    "    'm15_close','m15_rsi','m15_bband_price_upper','m15_bband_price_middle', 'm15_bband_price_lower','m15_bband_rsi_upper','m15_bband_rsi_middle', 'm15_bband_rsi_lower',\n",
    "    'm30_close','m30_rsi', 'm30_bband_price_upper', 'm30_bband_price_middle', 'm30_bband_price_lower', 'm30_bband_rsi_upper', 'm30_bband_rsi_middle', 'm30_bband_rsi_lower',\n",
    "    'h1_open', 'h1_high', 'h1_low', 'h1_close', 'h1_rsi', 'h1_bband_price_upper', 'h1_bband_price_middle', 'h1_bband_price_lower', 'h1_bband_rsi_upper', 'h1_bband_rsi_middle','h1_bband_rsi_lower',\n",
    "    'h4_open', 'h4_high', 'h4_low', 'h4_close', 'h4_rsi', 'h4_bband_price_upper', 'h4_bband_price_middle', 'h4_bband_price_lower', 'h4_bband_rsi_upper', 'h4_bband_rsi_middle', 'h4_bband_rsi_lower'\n",
    "    ]"
   ]
  },
  {
   "cell_type": "code",
   "execution_count": null,
   "id": "99b57561",
   "metadata": {},
   "outputs": [],
   "source": [
    "## construct a multi-timeframe dataframe\n",
    "mtf_df = pd.DataFrame(data)[cols_order]\n",
    "print(\"Length of mtf_df:\",len(mtf_df), f'on {mtf_df.index.freq} frequency')"
   ]
  },
  {
   "cell_type": "code",
   "execution_count": null,
   "id": "832d7082",
   "metadata": {},
   "outputs": [],
   "source": [
    "for col in mtf_df.columns:\n",
    "    time_series = mtf_df[col]\n",
    "    print(col,time_series.index.freq, 'length:' ,len(time_series), 'NULL Count:',time_series.isna().sum())"
   ]
  },
  {
   "cell_type": "code",
   "execution_count": null,
   "id": "4657025c",
   "metadata": {},
   "outputs": [],
   "source": [
    "display(mtf_df)"
   ]
  },
  {
   "cell_type": "code",
   "execution_count": null,
   "id": "d665d608",
   "metadata": {},
   "outputs": [],
   "source": [
    "# print(mtf_df.columns.to_list())"
   ]
  },
  {
   "cell_type": "code",
   "execution_count": null,
   "id": "c601eb7b",
   "metadata": {},
   "outputs": [],
   "source": [
    "mtf_df.info()"
   ]
  },
  {
   "cell_type": "code",
   "execution_count": null,
   "id": "5ef25cfd",
   "metadata": {},
   "outputs": [],
   "source": [
    "mtf_df.info()"
   ]
  },
  {
   "cell_type": "markdown",
   "id": "a44d06a8",
   "metadata": {},
   "source": [
    "### Double Bollinger Band - Strategy Conditions\n",
    "The trading conditions (rules) of the strategy are as follows:\n",
    "\n",
    "1. A long (buy) signal is generated whenever the H4 market (Low) price surpasses its lower Bollinger band after having been below it while simultaneously, the 5m RSI surpasses its lower Bollinger band after having been below it.\n",
    "\n",
    "2. A short (sell) signal is generated whenever the H4 market (High) price breaks its upper Bollinger band after having been above it while simultaneously, the 5m RSI breaks below its upper Bollinger band after having been above it."
   ]
  },
  {
   "cell_type": "code",
   "execution_count": null,
   "id": "2e26144b",
   "metadata": {},
   "outputs": [],
   "source": [
    "required_cols = [\n",
    "    # 'm5_close', \"m5_rsi\" , \"m5_bband_rsi_lower\", \"m5_bband_rsi_upper\" ,\n",
    "    'm15_close', 'm15_rsi', 'm15_bband_rsi_lower', 'm15_bband_rsi_upper'\n",
    "     \"h1_low\", \"h1_rsi\" , \"h1_bband_price_lower\" ,\n",
    "     'h4_low', \"h4_rsi\", \"h4_bband_price_lower\"]"
   ]
  },
  {
   "cell_type": "code",
   "execution_count": null,
   "id": "26466978",
   "metadata": {},
   "outputs": [],
   "source": [
    "mtf_df[required_cols][(mtf_df['h4_low'] < mtf_df['h4_bband_price_lower'])]"
   ]
  },
  {
   "cell_type": "code",
   "execution_count": null,
   "id": "beee9fb4",
   "metadata": {},
   "outputs": [],
   "source": [
    "## Higher values greater than 1.0 are like moving up the lower RSI b-band, signifying if the lowerband rsi is anywhere around 1% of the lower b-band validate that case as True\n",
    "# bb_upper_fract = 0.99\n",
    "# bb_lower_fract = 1.01\n",
    "\n",
    "bb_upper_fract = 1.0\n",
    "bb_lower_fract = 1.0"
   ]
  },
  {
   "cell_type": "code",
   "execution_count": null,
   "id": "7f89559e",
   "metadata": {},
   "outputs": [],
   "source": [
    "mtf_df[required_cols][(mtf_df['m5_rsi'] < (bb_lower_fract * mtf_df['m5_bband_rsi_lower']) )]"
   ]
  },
  {
   "cell_type": "code",
   "execution_count": null,
   "id": "635b20d4",
   "metadata": {},
   "outputs": [],
   "source": [
    "## When additional checking if RSI goes below 30 it Yields less results\n",
    "mtf_df[required_cols][(mtf_df['m5_rsi'] < (bb_lower_fract * mtf_df['m5_bband_rsi_lower']) ) & (mtf_df['m5_rsi'] <= 30)]"
   ]
  },
  {
   "cell_type": "code",
   "execution_count": null,
   "id": "774fb4cc",
   "metadata": {},
   "outputs": [],
   "source": [
    "## Final conditions - Using m5, m15 and h4 data \n",
    "# mtf_df['entry'] = (mtf_df['h4_low'] <= mtf_df['h4_bband_price_lower']) & (mtf_df['m15_rsi'] <= (bb_lower_fract * mtf_df['m15_bband_rsi_lower']) ) & ((mtf_df['m5_rsi'] <= 30))\n",
    "# mtf_df['exit']  = (mtf_df['h4_high'] >= mtf_df['h4_bband_price_upper']) & (mtf_df['m15_rsi'] >= (bb_upper_fract * mtf_df['m15_bband_rsi_upper'])) & ((mtf_df['m5_rsi'] >= 70))"
   ]
  },
  {
   "cell_type": "code",
   "execution_count": null,
   "id": "9a35db61",
   "metadata": {},
   "outputs": [],
   "source": [
    "## Final conditions - Using m5 (2 conditions) and h4 data \n",
    "# mtf_df['entry'] = (mtf_df['h4_low'] < mtf_df['h4_bband_price_lower']) & (mtf_df['m5_rsi'] < (bb_lower_fract * mtf_df['m5_bband_rsi_lower']) ) & ((mtf_df['m5_rsi'] < 30))\n",
    "# mtf_df['exit']  = (mtf_df['h4_high'] > mtf_df['h4_bband_price_upper']) & (mtf_df['m5_rsi'] > (bb_upper_fract * mtf_df['m5_bband_rsi_upper'])) & ((mtf_df['m5_rsi'] > 70))"
   ]
  },
  {
   "cell_type": "code",
   "execution_count": null,
   "id": "f47083f1",
   "metadata": {},
   "outputs": [],
   "source": [
    "## Final conditions - Using m5 (1 condition) and h4 data \n",
    "mtf_df['entry'] = (mtf_df['h4_low'] <= mtf_df['h4_bband_price_lower']) & (mtf_df['m5_rsi'] <= (bb_lower_fract * mtf_df['m5_bband_rsi_lower']) )\n",
    "mtf_df['exit']  = (mtf_df['h4_high'] >= mtf_df['h4_bband_price_upper']) & (mtf_df['m5_rsi'] >= (bb_upper_fract * mtf_df['m5_bband_rsi_upper']))\n"
   ]
  },
  {
   "cell_type": "code",
   "execution_count": null,
   "id": "e40acb04",
   "metadata": {},
   "outputs": [],
   "source": [
    "mtf_df['signal'] = 0   \n",
    "mtf_df['signal'] = np.where( mtf_df['entry'] ,1, 0)\n",
    "mtf_df['signal'] = np.where( mtf_df['exit'] ,-1, mtf_df['signal'])"
   ]
  },
  {
   "cell_type": "code",
   "execution_count": null,
   "id": "0d03f9fb",
   "metadata": {},
   "outputs": [],
   "source": [
    "entries = mtf_df.signal == 1.0\n",
    "exits = mtf_df.signal == -1.0"
   ]
  },
  {
   "cell_type": "markdown",
   "id": "2bc0c90a",
   "metadata": {},
   "source": [
    "_Cleaning_ `entries` and `exit` signals by removing redundant signals"
   ]
  },
  {
   "cell_type": "code",
   "execution_count": null,
   "id": "d0c503d0",
   "metadata": {},
   "outputs": [],
   "source": [
    "print(entries.vbt.signals.total(), exits.vbt.signals.total())\n",
    "print(len(entries), len(exits))"
   ]
  },
  {
   "cell_type": "code",
   "execution_count": null,
   "id": "7639bda6",
   "metadata": {},
   "outputs": [],
   "source": [
    "## Clean redundant and duplicate signals\n",
    "clean_entries, clean_exits = entries.vbt.signals.clean(exits)"
   ]
  },
  {
   "cell_type": "code",
   "execution_count": null,
   "id": "5e004034",
   "metadata": {},
   "outputs": [],
   "source": [
    "print(entries.vbt.signals.total(),exits.vbt.signals.total())\n",
    "print(len(clean_entries), len(clean_exits))"
   ]
  },
  {
   "cell_type": "markdown",
   "id": "f05e0878",
   "metadata": {},
   "source": [
    "Resampling `entries` and `exits` from `5m` to `H4` for plotting purpose"
   ]
  },
  {
   "cell_type": "code",
   "execution_count": null,
   "id": "df6d2303",
   "metadata": {},
   "outputs": [],
   "source": [
    "%%time\n",
    "## Faster method\n",
    "h4_entries = entries.vbt.resample_apply(\"4h\", \"any\", wrap_kwargs=dict(dtype=bool))\n",
    "h4_exits = exits.vbt.resample_apply(\"4h\", \"any\", wrap_kwargs=dict(dtype=bool))"
   ]
  },
  {
   "cell_type": "code",
   "execution_count": null,
   "id": "ce0db13d",
   "metadata": {},
   "outputs": [],
   "source": [
    "print(len(h4_entries),len(h4_exits))\n",
    "print(h4_entries.vbt.signals.total(),h4_exits.vbt.signals.total())"
   ]
  },
  {
   "cell_type": "code",
   "execution_count": null,
   "id": "efce0bb9",
   "metadata": {},
   "outputs": [],
   "source": [
    "clean_h4_entries, clean_h4_exits = h4_entries.vbt.signals.clean(h4_exits)"
   ]
  },
  {
   "cell_type": "code",
   "execution_count": null,
   "id": "2005ef15",
   "metadata": {},
   "outputs": [],
   "source": [
    "print(len(clean_h4_entries),len(clean_h4_exits))\n",
    "print(clean_h4_entries.vbt.signals.total(),clean_h4_exits.vbt.signals.total())"
   ]
  },
  {
   "cell_type": "markdown",
   "id": "13ee994c",
   "metadata": {},
   "source": [
    "### Plotting Indicators"
   ]
  },
  {
   "cell_type": "code",
   "execution_count": null,
   "id": "524f24b2",
   "metadata": {},
   "outputs": [],
   "source": [
    "## Global Plot Settings\n",
    "vbt.settings.set_theme(\"dark\")\n",
    "vbt.settings['plotting']['layout']['width'] = 1280"
   ]
  },
  {
   "cell_type": "code",
   "execution_count": null,
   "id": "7cb4ceef",
   "metadata": {},
   "outputs": [],
   "source": [
    "## Acquire Data for Indicators Plot\n",
    "h4_df = h4_data.get()\n",
    "h4_rsi = vbt.talib(\"RSI\", timeperiod = rsi_period).run(h4_data.get(\"Close\"), skipna=True).real\n",
    "h4_bbands = vbt.talib(\"BBANDS\").run(h4_data.get(\"Close\"), skipna=True)\n",
    "h4_bbands_rsi = vbt.talib(\"BBANDS\").run(h4_rsi, skipna=True)\n",
    "h4_df"
   ]
  },
  {
   "cell_type": "markdown",
   "id": "2514d91f",
   "metadata": {},
   "source": [
    "Create Backtest Simulation for 2BB Strategy using `vbt.Portfolio.from_signals()`"
   ]
  },
  {
   "cell_type": "code",
   "execution_count": null,
   "id": "ffa2f16e",
   "metadata": {},
   "outputs": [],
   "source": [
    "pf_2_bb_custom = vbt.Portfolio.from_signals(\n",
    "    mtf_df['m5_close'], \n",
    "    entries=entries, \n",
    "    exits=exits, \n",
    "    direction = \"both\",\n",
    "    freq=pd.Timedelta(minutes=5), \n",
    "    init_cash=100000\n",
    ")"
   ]
  },
  {
   "cell_type": "code",
   "execution_count": null,
   "id": "9251be58",
   "metadata": {},
   "outputs": [],
   "source": [
    "pf_2_bb_custom.stats()"
   ]
  },
  {
   "cell_type": "code",
   "execution_count": null,
   "id": "be11464a",
   "metadata": {},
   "outputs": [],
   "source": [
    "# pf_2_bb_custom.plot().show() ## This takes too long (30 secs) as it uses 5m timeframe\n",
    "pf_2_bb_custom.resample(\"1d\").plot().show()"
   ]
  },
  {
   "cell_type": "code",
   "execution_count": null,
   "id": "0bc5813b",
   "metadata": {},
   "outputs": [],
   "source": [
    "# pf_2_bb_custom.orders.plot(xaxis=dict(rangeslider_visible=True),**kwargs1).show()\n",
    "kwargs1 = {\"title_text\" : \"Orders - Stats & Plot\", \"title_font_size\" : 18}\n",
    "pf_2_bb_custom.orders.resample(\"1d\").plot(xaxis=dict(rangeslider_visible=True),**kwargs1).show()"
   ]
  },
  {
   "cell_type": "code",
   "execution_count": null,
   "id": "114be411",
   "metadata": {},
   "outputs": [],
   "source": [
    "## Simple line plots seem to be using matplotlib\n",
    "pf_2_bb_custom.trades.records_readable.PnL.cumsum().plot()"
   ]
  },
  {
   "cell_type": "code",
   "execution_count": null,
   "id": "eec2f13d",
   "metadata": {},
   "outputs": [],
   "source": [
    "pnl_series = pf_2_bb_custom.trades.pnl.to_pd()\n",
    "pnl_series[pnl_series.notna()]"
   ]
  },
  {
   "cell_type": "markdown",
   "id": "60038cf2",
   "metadata": {},
   "source": [
    "### Creating Stacked SubPlots on Sliced Data"
   ]
  },
  {
   "cell_type": "code",
   "execution_count": null,
   "id": "536366f3",
   "metadata": {},
   "outputs": [],
   "source": [
    "def plot_strategy(slice_lower : str, slice_upper: str, df : pd.DataFrame , rsi : pd.Series,\n",
    "                         bb_price : vbt.indicators.factory, bb_rsi : vbt.indicators.factory, \n",
    "                         entries: pd.Series, exits: pd.Series, \n",
    "                         long_trades: pd.DataFrame, short_trades: pd.DataFrame,\n",
    "                         show_legend : bool = True):\n",
    "    \"\"\"Creates a stacked indicator plot for the 2BB strategy.\n",
    "    Parameters\n",
    "    ===========\n",
    "    slice_lower : str, start date of dataframe slice in yyyy.mm.dd format\n",
    "    slice_upper : str, start date of dataframe slice in yyyy.mm.dd format\n",
    "    df          : pd.DataFrame, containing the OHLCV data\n",
    "    rsi         : pd.Series, rsi indicator time series in same freq as df\n",
    "    bb_price    : vbt.indicators.factory.talib('BBANDS'), computed on df['close'] price\n",
    "    bb_rsi      : vbt.indicators.factory.talib('BBANDS') computer on RSI\n",
    "    entries     : pd.Series, time series data of long entries\n",
    "    exits       : pd.Series, time series data of long exits\n",
    "    long_trades : pd.DataFrame, long_trades from `pf.trades.records_readable`\n",
    "    short_trades: pd.DataFrame, short_trades from `pf.trades.records_readable`\n",
    "    show_legend : bool, switch to show or completely hide the legend box on the plot\n",
    "    \n",
    "    Returns\n",
    "    =======\n",
    "    fig         : plotly figure object\n",
    "    \"\"\"\n",
    "    kwargs1 = {\"title_text\" : \"H4 OHLCV with BBands on Price and RSI\", \n",
    "               \"title_font_size\" : 18,\n",
    "               \"height\" : 960,\n",
    "               \"legend\" : dict(yanchor=\"top\",y=0.99, xanchor=\"right\",x= 0.1)}\n",
    "    fig = vbt.make_subplots(rows=2,cols=1, shared_xaxes=True, vertical_spacing=0.1)\n",
    "    ## Filter Data according to date slice\n",
    "    df_slice = df[[\"Open\", \"High\", \"Low\", \"Close\"]][slice_lower : slice_upper]\n",
    "    bb_price = bb_price[slice_lower : slice_upper]\n",
    "    rsi = rsi[slice_lower : slice_upper]\n",
    "    bb_rsi = bb_rsi[slice_lower : slice_upper]\n",
    "    entries = entries[slice_lower : slice_upper]\n",
    "    exits = exits[slice_lower : slice_upper]\n",
    "    long_trades = long_trades[slice_lower : slice_upper].reset_index()\n",
    "    short_trades = short_trades[slice_lower : slice_upper].reset_index()\n",
    "\n",
    "    ## Retrieve Filled entry and exit prices\n",
    "    entry_prices = pd.concat([long_trades[['Entry Index', 'Avg Entry Price']], short_trades[['Entry Index', 'Avg Entry Price']]]).sort_values('Entry Index').set_index('Entry Index')\n",
    "    exit_prices = pd.concat([long_trades[['Exit Index', 'Avg Exit Price']], short_trades[['Exit Index', 'Avg Exit Price']]]).sort_values('Exit Index').set_index('Exit Index')\n",
    "    entry_prices.index.names = ['time']\n",
    "    exit_prices.index.names = ['time']\n",
    "    entry_prices.name = 'Entries'\n",
    "    exit_prices.name = 'Exits'\n",
    "    \n",
    "    ## Retrieve datetime index of rows where price data is NULL\n",
    "    # retrieve the dates that are in the original datset\n",
    "    dt_obs = df_slice.index.to_list()\n",
    "    # Drop rows with missing values\n",
    "    dt_obs_dropped = df_slice['Close'].dropna().index.to_list()\n",
    "    # store  dates with missing values\n",
    "    dt_breaks = [d for d in dt_obs if d not in dt_obs_dropped]\n",
    "\n",
    "    ## Plot Figures\n",
    "    df_slice.vbt.ohlcv.plot(add_trace_kwargs=dict(row=1, col=1),  fig=fig, **kwargs1) ## Without Range Slider\n",
    "    rsi.rename(\"RSI\").vbt.plot(add_trace_kwargs=dict(row=2, col=1), trace_kwargs = dict(connectgaps=True), fig=fig, **kwargs1 ) \n",
    "\n",
    "    bb_price.plot(add_trace_kwargs=dict(row=1, col=1),fig=fig, **kwargs1,\n",
    "                    lowerband_trace_kwargs=dict(fill=None, name = 'BB_Price_Lower', connectgaps=True), \n",
    "                    upperband_trace_kwargs=dict(fill=None, name = 'BB_Price_Upper', connectgaps=True),\n",
    "                    middleband_trace_kwargs=dict(fill=None, name = 'BB_Price_Middle', connectgaps=True) )\n",
    "\n",
    "    bb_rsi.plot(add_trace_kwargs=dict(row=2, col=1),limits=(25, 75),fig=fig,\n",
    "                lowerband_trace_kwargs=dict(fill=None, name = 'BB_RSI_Lower', connectgaps=True), \n",
    "                upperband_trace_kwargs=dict(fill=None, name = 'BB_RSI_Upper', connectgaps=True),\n",
    "                middleband_trace_kwargs=dict(fill=None, name = 'BB_RSI_Middle', connectgaps=True))\n",
    "\n",
    "    ## Add Entries and Long Exits\n",
    "    entries.vbt.signals.plot_as_entries(df_slice['Close'], fig=fig,\n",
    "                                        trace_kwargs=dict(marker=dict(color=\"limegreen\", size = 12), \n",
    "                                                          name=\"Entries\")\n",
    "                                            )\n",
    "    exits.vbt.signals.plot_as_exits(df_slice['Close'], fig = fig,\n",
    "                                        trace_kwargs=dict(marker=dict(color=\"red\", size = 12), \n",
    "                                                        name=\"Exits\") \n",
    "                                        )\n",
    "                                        \n",
    "    entries.vbt.signals.plot_as_entries(rsi, fig = fig,\n",
    "                                             add_trace_kwargs=dict(row=2, col=1),\n",
    "                                             trace_kwargs=dict(marker=dict(color=\"limegreen\"),\n",
    "                                                               showlegend = False))  \n",
    "\n",
    "    exits.vbt.signals.plot_as_exits(rsi, fig = fig,showlegend = False,\n",
    "                                         add_trace_kwargs=dict(row=2, col=1),\n",
    "                                         trace_kwargs=dict(marker=dict(color=\"red\"),\n",
    "                                                           showlegend = False))\n",
    "\n",
    "    ## Dotted Lines for Long Trades\n",
    "    x_axis_long_entries = long_trades['Entry Index'].map(lambda x : x.replace(microsecond=0))\n",
    "    y_axis_long_entries = long_trades['Avg Entry Price'].values\n",
    "    x_axis_long_exits = long_trades['Exit Index'].map(lambda x : x.replace(microsecond=0))\n",
    "    y_axis_long_exits = long_trades['Avg Exit Price'].values\n",
    "\n",
    "    for entry_time, entry_price, exit_time, exit_price in zip(x_axis_long_entries, y_axis_long_entries, \n",
    "                                                                x_axis_long_exits, y_axis_long_exits):\n",
    "        fig.add_shape(type=\"line\",x0=entry_time, y0=entry_price, \n",
    "                                    x1=exit_time, y1=exit_price,\n",
    "                                    line=dict(color=\"aquamarine\",width=2,dash=\"dot\"))\n",
    "\n",
    "    ## Dotted Lines for Short Trades\n",
    "    x_axis_short_entries = short_trades['Entry Index'].map(lambda x : x.replace(microsecond=0))\n",
    "    y_axis_short_entries = short_trades['Avg Entry Price'].values\n",
    "    x_axis_short_exits = short_trades['Exit Index'].map(lambda x : x.replace(microsecond=0))\n",
    "    y_axis_short_exits = short_trades['Avg Exit Price'].values\n",
    "\n",
    "    for entry_time, entry_price, exit_time, exit_price in zip(x_axis_short_entries, y_axis_short_entries, \n",
    "                                                                x_axis_short_exits, y_axis_short_exits):\n",
    "        fig.add_shape(type=\"line\",x0=entry_time, y0=entry_price, \n",
    "                                    x1=exit_time, y1=exit_price,\n",
    "                                    line=dict(color=\"magenta\",width=2, dash=\"dot\")) \n",
    "\n",
    "    fig.update_xaxes(rangebreaks=[dict(values=dt_breaks)])\n",
    "    fig.layout.showlegend = show_legend  \n",
    "    # fig.write_html(f\"2BB_Strategy_{slice_lower}_to_{slice_upper}.html\")\n",
    "    \n",
    "    return fig"
   ]
  },
  {
   "cell_type": "code",
   "execution_count": null,
   "id": "80aae804",
   "metadata": {},
   "outputs": [],
   "source": [
    "df_trades = pf_2_bb_custom.trades.records_readable\n",
    "df_trades"
   ]
  },
  {
   "cell_type": "code",
   "execution_count": null,
   "id": "da377ae4",
   "metadata": {},
   "outputs": [],
   "source": [
    "long_trades = df_trades[['Entry Index', 'Avg Entry Price', 'Exit Index', 'Avg Exit Price']][df_trades['Direction'] == \"Long\"].set_index('Entry Index')#.squeeze()\n",
    "short_trades = df_trades[['Entry Index', 'Avg Entry Price', 'Exit Index', 'Avg Exit Price']][df_trades['Direction'] == \"Short\"].set_index('Entry Index')#.squeeze()"
   ]
  },
  {
   "cell_type": "code",
   "execution_count": null,
   "id": "cc911e7b",
   "metadata": {},
   "outputs": [],
   "source": [
    "len(long_trades), len(short_trades)"
   ]
  },
  {
   "cell_type": "code",
   "execution_count": null,
   "id": "a7e18be0",
   "metadata": {},
   "outputs": [],
   "source": [
    "slice_lower = '2019.10.01'\n",
    "slice_higher = '2019.12.30'\n",
    "fig = plot_strategy(slice_lower, slice_higher, h4_df, h4_rsi, \n",
    "                           h4_bbands, h4_bbands_rsi, \n",
    "                           clean_h4_entries, clean_h4_exits, \n",
    "                           long_trades, short_trades,\n",
    "                           show_legend = True)\n",
    "\n",
    "fig.show()"
   ]
  },
  {
   "cell_type": "markdown",
   "id": "03b4c097",
   "metadata": {},
   "source": [
    "### Save final dataframe with consolidated signals and `P&L`"
   ]
  },
  {
   "cell_type": "code",
   "execution_count": null,
   "id": "48cdd155",
   "metadata": {},
   "outputs": [],
   "source": [
    "## Map Signals column into relavant integers to represent long and short entry/exit signals\n",
    "mtf_df[\"pnl\"] = pnl_series\n",
    "mtf_df"
   ]
  },
  {
   "cell_type": "code",
   "execution_count": null,
   "id": "b52f46bd",
   "metadata": {},
   "outputs": [],
   "source": [
    "# mtf_df.to_csv(\"2BB_Final_Simulation.csv\", index = False)"
   ]
  },
  {
   "cell_type": "code",
   "execution_count": null,
   "id": "adbce972",
   "metadata": {},
   "outputs": [],
   "source": [
    "mtf_df.columns"
   ]
  }
 ],
 "metadata": {
  "kernelspec": {
   "display_name": "Python 3.10.6 ('vbt')",
   "language": "python",
   "name": "python3"
  },
  "language_info": {
   "codemirror_mode": {
    "name": "ipython",
    "version": 3
   },
   "file_extension": ".py",
   "mimetype": "text/x-python",
   "name": "python",
   "nbconvert_exporter": "python",
   "pygments_lexer": "ipython3",
   "version": "3.10.6"
  },
  "vscode": {
   "interpreter": {
    "hash": "553d3b352623cb609a2efe4df91242fdc89d5ebcee56d9279e2aa2c11b529c13"
   }
  }
 },
 "nbformat": 4,
 "nbformat_minor": 5
}
