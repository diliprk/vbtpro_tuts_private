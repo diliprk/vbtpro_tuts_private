{
 "cells": [
  {
   "cell_type": "markdown",
   "metadata": {},
   "source": [
    "### Description\n",
    "In this notebook, we will see a comprehensive overview of some common tasks that anyone would be implementing in VectorBT Pro. We will be using the [`Double Bollinger Band Strategy`](https://abouttrading.substack.com/p/the-double-bollinger-trading-strategy) as an example of a Multi-Time Frame Strategy to accomplish the following objectives:\n",
    "* `Resampling` lowertime frame (1m) data to higher time frame data\n",
    "* Constructing the strategy rules, which uses two different timeframes for the entry and exit conditions\n",
    "* Visualize the indicators and entry/exit signals on VBT Plots\n",
    "* Run the backtesting simulation using `from_signals`\n",
    "* Visualize and discuss the simulation results"
   ]
  },
  {
   "cell_type": "code",
   "execution_count": null,
   "metadata": {},
   "outputs": [],
   "source": [
    "import pandas as pd\n",
    "import numpy as np\n",
    "import vectorbtpro as vbt"
   ]
  },
  {
   "cell_type": "code",
   "execution_count": null,
   "metadata": {},
   "outputs": [],
   "source": [
    "## Load m1 data\n",
    "m1_data = vbt.HDFData.fetch('../../data/GU_OHLCV_3Y.h5')\n",
    "m1_data.wrapper.index #pandas doaesn't recognise the frequency because of missing timestamps"
   ]
  },
  {
   "cell_type": "markdown",
   "metadata": {},
   "source": [
    "Downsampling `1 minute` data to Higher Time Frames"
   ]
  },
  {
   "cell_type": "code",
   "execution_count": null,
   "metadata": {},
   "outputs": [],
   "source": [
    "m5_data = m1_data.resample('5T')   # Convert 1 minute to 5 mins\n",
    "m15_data = m1_data.resample('15T') # Convert 1 minute to 15 mins\n",
    "m30_data = m1_data.resample('30T') # Convert 1 minute to 30 mins\n",
    "h1_data = m1_data.resample(\"1h\")   # Convert 1 minute to 1 hour\n",
    "h4_data = m1_data.resample(\"4h\")   # Convert 1 minute to 4 hour\n",
    "d1_data = m1_data.resample(\"1d\")   # Convert 1 minute to daily"
   ]
  },
  {
   "cell_type": "markdown",
   "metadata": {},
   "source": [
    "Check missing frequency on the resampled higher timeframe data.\n",
    "- The missing frequency has been checked for ` freq = '4H'` `  "
   ]
  },
  {
   "cell_type": "code",
   "execution_count": null,
   "metadata": {},
   "outputs": [],
   "source": [
    "h4_data.wrapper.index"
   ]
  },
  {
   "cell_type": "code",
   "execution_count": null,
   "metadata": {},
   "outputs": [],
   "source": [
    "# Obtain all the closing  prices using the .get() method\n",
    "m5_close = m5_data.get()['Close']\n",
    "m30_close = m30_data.get()['Close']\n",
    "\n",
    "## h1 data\n",
    "h1_open =  h1_data.get()['Open']\n",
    "h1_close = h1_data.get()['Close']\n",
    "h1_high =  h1_data.get()['High']\n",
    "h1_low =  h1_data.get()['Low']\n",
    "\n",
    "## h4 data\n",
    "h4_open  = h4_data.get()['Open']\n",
    "h4_close  = h4_data.get()['Close']\n",
    "h4_high  = h4_data.get()['High']\n",
    "h4_low  = h4_data.get()['Low']"
   ]
  },
  {
   "cell_type": "code",
   "execution_count": null,
   "metadata": {},
   "outputs": [],
   "source": [
    "## Check for a sample of missing time periods during weelemds\n",
    "## Looks like a typical closure during weekends, on Friday evening (30.08.2019) and reopening at Tokyo market open\n",
    "# m30_close[(m30_close.index > \"2019-08-29\") & (m30_close.index < \"2019-09-02\")]\n",
    "h4_close[(h4_close.index > \"2019-08-29\") & (h4_close.index < \"2019-09-02\")]#.dropna()"
   ]
  },
  {
   "cell_type": "code",
   "execution_count": null,
   "metadata": {},
   "outputs": [],
   "source": [
    "h4_close.info()"
   ]
  },
  {
   "cell_type": "markdown",
   "metadata": {},
   "source": [
    "### Create Indicators for multiple timeframes\n",
    "\n",
    "This _Double Bollinger Band_ strategy assumes a double confirmation factor from two types of Bollinger bands. Basically, to create the strategy, you need to do the following:\n",
    "* Calculate a 20-period RSI on the market price.\n",
    "* Calculate a 20-period Bollinger bands (with 2x standard deviation) on the market price.\n",
    "* Calculate a 20-period Bollinger bands (with 2x standard deviation) on the RSI."
   ]
  },
  {
   "cell_type": "markdown",
   "metadata": {},
   "source": [
    "**TODO** :\n",
    "* Find out what the `.real` does?"
   ]
  },
  {
   "cell_type": "code",
   "execution_count": null,
   "metadata": {},
   "outputs": [],
   "source": [
    "rsi_period = 21\n",
    "\n",
    "m5_rsi = vbt.talib(\"RSI\", timeperiod = rsi_period).run(m5_data.get(\"Close\"), skipna=True).real\n",
    "m5_bbands = vbt.talib(\"BBANDS\").run(m5_data.get(\"Close\"), skipna=True)\n",
    "m5_bbands_rsi = vbt.talib(\"BBANDS\").run(m5_rsi, skipna=True)\n",
    "\n",
    "m30_rsi = vbt.talib(\"RSI\", timeperiod = rsi_period).run(m30_data.get(\"Close\"), skipna=True).real\n",
    "m30_bbands = vbt.talib(\"BBANDS\").run(m30_data.get(\"Close\"), skipna=True)\n",
    "m30_bbands_rsi = vbt.talib(\"BBANDS\").run(m30_rsi, skipna=True)\n",
    "\n",
    "h1_rsi = vbt.talib(\"RSI\", timeperiod = rsi_period).run(h1_data.get(\"Close\"), skipna=True).real\n",
    "h1_bbands = vbt.talib(\"BBANDS\").run(h1_data.get(\"Close\"), skipna=True)\n",
    "h1_bbands_rsi = vbt.talib(\"BBANDS\").run(h1_rsi, skipna=True)\n",
    "\n",
    "h4_rsi = vbt.talib(\"RSI\", timeperiod = rsi_period).run(h4_data.get(\"Close\"), skipna=True).real\n",
    "h4_bbands = vbt.talib(\"BBANDS\").run(h4_data.get(\"Close\"), skipna=True)\n",
    "h4_bbands_rsi = vbt.talib(\"BBANDS\").run(h4_rsi, skipna=True)"
   ]
  },
  {
   "cell_type": "code",
   "execution_count": null,
   "metadata": {},
   "outputs": [],
   "source": [
    "## Alternate fancier method 2 of constructing BBAnd data for MTF data\n",
    "rsi = vbt.talib(\"RSI\", timeperiod = rsi_period).run(m5_close, skipna=True,\n",
    "                                                   timeframe=[\"5T\",\"30T\",\"1h\",\"4h\"],\n",
    "                                                   broadcast_kwargs=dict(wrapper_kwargs=dict(freq=\"5T\"))).real\n",
    "                                                   \n",
    "bbands_price = vbt.talib(\"BBANDS\").run(m5_close, skipna=True, \n",
    "                                timeframe=[\"5T\",\"30T\",\"1h\",\"4h\"], \n",
    "                                broadcast_kwargs=dict(wrapper_kwargs=dict(freq=\"5T\")))\n",
    "\n",
    "\n",
    "bbands_rsi = vbt.talib(\"BBANDS\").run(m5_rsi, skipna=True, \n",
    "                                timeframe=[\"5T\",\"30T\",\"1h\",\"4h\"], \n",
    "                                broadcast_kwargs=dict(wrapper_kwargs=dict(freq=\"5T\")))"
   ]
  },
  {
   "cell_type": "code",
   "execution_count": null,
   "metadata": {},
   "outputs": [],
   "source": [
    "m5_bbands.lowerband.info()"
   ]
  },
  {
   "cell_type": "code",
   "execution_count": null,
   "metadata": {},
   "outputs": [],
   "source": [
    "bbands_price['5T'].lowerband.info()"
   ]
  },
  {
   "cell_type": "code",
   "execution_count": null,
   "metadata": {},
   "outputs": [],
   "source": [
    "## Extracting the bbands_data\n",
    "pd.DataFrame(data = {\"5m_bb_price_lower\" : bbands_price[\"5T\"].lowerband,\n",
    "                     \"5m_bb_price_middle\" : bbands_price[\"5T\"].middleband,\n",
    "                     \"5m_bb_price_higher\": bbands_price[\"5T\"].upperband})\n"
   ]
  },
  {
   "cell_type": "code",
   "execution_count": null,
   "metadata": {},
   "outputs": [],
   "source": [
    "pd.DataFrame(data = {\"h4_bb_price_lower\" : bbands_price[\"4h\"].lowerband, \n",
    "                    \"h4_bb_price_middle\" : bbands_price[\"4h\"].middleband, \n",
    "                    \"h4_bb_price_higher\": bbands_price[\"4h\"].upperband}\n",
    "                    )\n"
   ]
  },
  {
   "cell_type": "markdown",
   "metadata": {},
   "source": [
    "Upsampling higher timeframe (`low frequency`) data to lower timeframe (`high frequency`) data"
   ]
  },
  {
   "cell_type": "code",
   "execution_count": null,
   "metadata": {},
   "outputs": [],
   "source": [
    "def create_resamplers(result_dict_keys_list : list, source_indices : list,  source_frequencies :list, target_index : pd.Series, target_freq : str):\n",
    "    \"\"\"\n",
    "    Creates a dictionary of vbtpro resampler objects.\n",
    "\n",
    "    Parameters\n",
    "    ==========\n",
    "    result_dict_keys_list : list, list of strings, which are keys of the output dictionary\n",
    "    source_indices        : list, list of pd.time series objects of the higher timeframes\n",
    "    source_frequencies    : list, list of strings, which are short form representation of the time series order. Eg:[\"1D\", \"4h\"]\n",
    "    target_index          : pd.Series, target time series for the resampler objects\n",
    "    target_freq           : str, target time frequency for the resampler objects, i.e.\n",
    "                                 the 1st frequency at the start of `source_frequencies` list\n",
    "\n",
    "    Returns\n",
    "    ===========\n",
    "    \n",
    "    resamplers_dict       : dict, vbt pro resampler objects\n",
    "    \n",
    "    \"\"\"\n",
    "    \n",
    "    \n",
    "    resamplers = []\n",
    "    for si, sf in zip(source_indices, source_frequencies):\n",
    "        resamplers.append(vbt.Resampler(source_index = si,  target_index = target_index,  source_freq=sf, target_freq=target_freq))\n",
    "    return dict(zip(result_dict_keys_list, resamplers))"
   ]
  },
  {
   "cell_type": "code",
   "execution_count": null,
   "metadata": {},
   "outputs": [],
   "source": [
    "## Create Resampler Objects for upsampling\n",
    "src_indices = [m30_close.index, h1_close.index, h4_close.index]\n",
    "src_frequencies = [\"30T\", \"1h\", \"4h\"]\n",
    "resampler_dict_keys = [\"m30_m5\", \"h1_m5\", \"h4_m5\"]\n",
    "\n",
    "list_resamplers = create_resamplers(resampler_dict_keys, src_indices, src_frequencies, m5_close.index, \"5T\")\n",
    "list_resamplers"
   ]
  },
  {
   "cell_type": "code",
   "execution_count": null,
   "metadata": {},
   "outputs": [],
   "source": [
    "# series_to_resample = [\n",
    "#     [m30_close,rsi['30T'], bbands_price['30T'].upperband, bbands_price['30T'].middleband, bbands_price['30T'].lowerband, bbands_rsi['30T'].upperband, bbands_rsi['30T'].middleband, bbands_rsi['30T'].lowerband],\n",
    "#     [h1_close, rsi['1h'], bbands_price['1h'].upperband, bbands_price['1h'].middleband, bbands_price['1h'].lowerband, bbands_rsi['1h'].upperband, bbands_rsi['1h'].middleband, bbands_rsi['1h'].lowerband],\n",
    "#     [h4_close, rsi['4h'], bbands_price['4h'].upperband, bbands_price['4h'].middleband, bbands_price['4h'].lowerband, bbands_rsi['4h'].upperband, bbands_rsi['4h'].middleband, bbands_rsi['4h'].lowerband]\n",
    "#     ]\n",
    "\n",
    "series_to_resample = [\n",
    "    [m30_close, m30_rsi, m30_bbands.upperband, m30_bbands.middleband, m30_bbands.lowerband, m30_bbands_rsi.upperband, m30_bbands_rsi.middleband, m30_bbands_rsi.lowerband],\n",
    "    [h1_close, h1_rsi, h1_bbands.upperband, h1_bbands.middleband, h1_bbands.lowerband, h1_bbands_rsi.upperband, h1_bbands_rsi.middleband, h1_bbands_rsi.lowerband],\n",
    "    [h4_close, h4_rsi, h4_bbands.upperband, h4_bbands.middleband, h4_bbands.lowerband, h4_bbands_rsi.upperband, h4_bbands_rsi.middleband, h4_bbands_rsi.lowerband]\n",
    "    ]\n",
    "\n",
    "data_keys = [\n",
    "        [\"m30_close\", \"m30_rsi\", \"m30_bband_price_upper\",  \"m30_bband_price_middle\", \"m30_bband_price_lower\",  \"m30_bband_rsi_upper\",  \"m30_bband_rsi_middle\", \"m30_bband_rsi_lower\"],\n",
    "        [\"h1_close\", \"h1_rsi\", \"h1_bband_price_upper\",  \"h1_bband_price_middle\",  \"h1_bband_price_lower\",  \"h1_bband_rsi_upper\",  \"h1_bband_rsi_middle\", \"h1_bband_rsi_lower\" ],\n",
    "        [\"h4_close\", \"h4_rsi\", \"h4_bband_price_upper\",  \"h4_bband_price_middle\",  \"h4_bband_price_lower\",  \"h4_bband_rsi_upper\",  \"h4_bband_rsi_middle\", \"h4_bband_rsi_lower\" ]\n",
    "         ]"
   ]
  },
  {
   "cell_type": "markdown",
   "metadata": {},
   "source": [
    "### Resample and create multi-timeframe data frame\n",
    "* Our baseline time-frame (frequency) is 5min data"
   ]
  },
  {
   "cell_type": "code",
   "execution_count": null,
   "metadata": {},
   "outputs": [],
   "source": [
    "data = {\"m5_close\" : m5_close.ffill(), \"m5_rsi\" : m5_rsi.ffill(), \n",
    "        \"m5_bband_price_upper\" : m5_bbands.upperband.ffill(),  \"m5_bband_price_middle\" : m5_bbands.middleband.ffill(),  \"m5_bband_price_lower\" : m5_bbands.lowerband.ffill(),\n",
    "        \"m5_bband_rsi_upper\" : m5_bbands_rsi.upperband.ffill(),  \"m5_bband_rsi_middle\" : m5_bbands_rsi.middleband.ffill(), \"m5_bband_rsi_lower\" : m5_bbands_rsi.lowerband.ffill() \n",
    "        }"
   ]
  },
  {
   "cell_type": "code",
   "execution_count": null,
   "metadata": {},
   "outputs": [],
   "source": [
    "for lst_series, lst_keys in zip(series_to_resample, data_keys):\n",
    "    for key, time_series in zip(lst_keys, lst_series):\n",
    "        data[key] = time_series#.ffill()"
   ]
  },
  {
   "cell_type": "code",
   "execution_count": null,
   "metadata": {},
   "outputs": [],
   "source": [
    "%%time\n",
    "\n",
    "# for lst_series, lst_keys, resampler in zip(series_to_resample, data_keys, resampler_dict_keys):\n",
    "#     for key, time_series in zip(lst_keys, lst_series):\n",
    "#         resampled_time_series = time_series.vbt.resample_closing(list_resamplers[resampler])\n",
    "#         data[key] = resampled_time_series.ffill()"
   ]
  },
  {
   "cell_type": "code",
   "execution_count": null,
   "metadata": {},
   "outputs": [],
   "source": [
    "## Add h1 data\n",
    "data[\"h1_open\"] = h1_open.vbt.resample_closing(list_resamplers['h1_m5']).ffill()\n",
    "data[\"h1_low\"]  = h1_low.vbt.resample_closing(list_resamplers['h1_m5']).ffill()\n",
    "data[\"h1_high\"] = h1_high.vbt.resample_closing(list_resamplers['h1_m5']).ffill()\n",
    "\n",
    "## Add h4 data\n",
    "data[\"h4_open\"] = h4_open.vbt.resample_closing(list_resamplers['h4_m5']).ffill()\n",
    "data[\"h4_low\"]  = h4_low.vbt.resample_closing(list_resamplers['h4_m5']).ffill()\n",
    "data[\"h4_high\"] = h4_high.vbt.resample_closing(list_resamplers['h4_m5']).ffill()\n",
    "# data"
   ]
  },
  {
   "cell_type": "code",
   "execution_count": null,
   "metadata": {},
   "outputs": [],
   "source": [
    "print(data[\"h4_rsi\"].equals(other = rsi[\"4h\"]) )\n",
    "print(data[\"m5_rsi\"].equals(other = rsi[\"5T\"]) )\n",
    "print(data[\"m5_bband_price_lower\"].equals(other = bbands_price[\"5T\"].lowerband) )"
   ]
  },
  {
   "cell_type": "code",
   "execution_count": null,
   "metadata": {},
   "outputs": [],
   "source": [
    "# print(h4_rsi.ffill().equals(other = rsi[\"4h\"]) )\n",
    "# print(m5_bbands.lowerband.equals(other = bbands_price[\"5T\"].lowerband) )\n",
    "# print(m5_bbands.lowerband.ffill().equals(other = bbands_price[\"5T\"].lowerband) )"
   ]
  },
  {
   "cell_type": "markdown",
   "metadata": {},
   "source": [
    "### Construct dataframe of multi-time frame data"
   ]
  },
  {
   "cell_type": "code",
   "execution_count": null,
   "metadata": {},
   "outputs": [],
   "source": [
    "## construct a multi-timeframe dataframe\n",
    "mtf_df = pd.DataFrame(data)\n",
    "print(\"Length of mtf_df:\",len(mtf_df))"
   ]
  },
  {
   "cell_type": "code",
   "execution_count": null,
   "metadata": {},
   "outputs": [],
   "source": [
    "display(mtf_df)"
   ]
  },
  {
   "cell_type": "code",
   "execution_count": null,
   "metadata": {},
   "outputs": [],
   "source": [
    "mtf_df.info()"
   ]
  },
  {
   "cell_type": "markdown",
   "metadata": {},
   "source": [
    "Double Bollinger Band - **Strategy Conditions**"
   ]
  },
  {
   "cell_type": "markdown",
   "metadata": {},
   "source": [
    "The trading conditions (rules) of the strategy are as follows:\n",
    "1. A long (buy) signal is generated whenever the market price surpasses its, lower Bollinger band after having been below it while simultaneously, the RSI surpasses its lower Bollinger band after having been below it.\n",
    "2. A short (sell) signal is generated whenever the market price breaks its upper Bollinger band after having been above it while simultaneously, the RSI breaks its upper Bollinger band after having been above it."
   ]
  },
  {
   "cell_type": "code",
   "execution_count": null,
   "metadata": {},
   "outputs": [],
   "source": [
    "required_cols = ['m5_close', \"m5_rsi\" , \"m5_bband_rsi_lower\", \"h1_low\",'h4_low', \"h1_rsi\" ,\"h4_rsi\", \"h1_bband_price_lower\" ,\"h4_bband_price_lower\"]"
   ]
  },
  {
   "cell_type": "code",
   "execution_count": null,
   "metadata": {},
   "outputs": [],
   "source": [
    "mtf_df[required_cols][(mtf_df['h4_low'] < mtf_df['h4_bband_price_lower'])]"
   ]
  },
  {
   "cell_type": "markdown",
   "metadata": {},
   "source": [
    "**Checking for entries on 5m chart**"
   ]
  },
  {
   "cell_type": "code",
   "execution_count": null,
   "metadata": {},
   "outputs": [],
   "source": [
    "## Higher values greater than 1.0 are like moving up the lower RSI b-band, signifying if rsi is anywhere around 1% of the lower b-band validate that case as True\n",
    "bb_upper_fract = 0.99\n",
    "bb_lower_fract = 1.01"
   ]
  },
  {
   "cell_type": "code",
   "execution_count": null,
   "metadata": {},
   "outputs": [],
   "source": [
    "## Yields very few results\n",
    "mtf_df[required_cols][(mtf_df['m5_rsi'] < (bb_lower_fract * mtf_df['m5_bband_rsi_lower']) ) & (mtf_df['m5_rsi'] <= 30)]"
   ]
  },
  {
   "cell_type": "code",
   "execution_count": null,
   "metadata": {},
   "outputs": [],
   "source": [
    "mtf_df[required_cols][(mtf_df['m5_rsi'] < (bb_lower_fract * mtf_df['m5_bband_rsi_lower']) )]"
   ]
  },
  {
   "cell_type": "code",
   "execution_count": null,
   "metadata": {},
   "outputs": [],
   "source": [
    "df_tmp = mtf_df[required_cols][(mtf_df['h4_low'] <= mtf_df['h4_bband_price_lower']) & (mtf_df['m5_rsi'] <= (bb_lower_fract * mtf_df['m5_bband_rsi_lower'])) ]\n",
    "print(\"Nr. of rows satisfying LONG condition(s):\",len(df_tmp))\n",
    "df_tmp"
   ]
  },
  {
   "cell_type": "code",
   "execution_count": null,
   "metadata": {},
   "outputs": [],
   "source": [
    "mtf_df.columns"
   ]
  },
  {
   "cell_type": "code",
   "execution_count": null,
   "metadata": {},
   "outputs": [],
   "source": [
    "## Using m5 and h4 data \n",
    "mtf_df['long_entry']=(mtf_df['h4_low'] <= mtf_df['h4_bband_price_lower']) & (mtf_df['m5_rsi'] <= (bb_lower_fract * mtf_df['m5_bband_rsi_lower']) )\n",
    "mtf_df['long_exit']=(mtf_df['h4_high'] >= mtf_df['h4_bband_price_upper']) & (mtf_df['m5_rsi'] >= (bb_upper_fract * mtf_df['m5_bband_rsi_upper']) )\n",
    "\n",
    "mtf_df['signal'] = 0   \n",
    "mtf_df['signal'] = np.where( mtf_df['long_entry'] ,1, 0)\n",
    "mtf_df['signal'] = np.where( mtf_df['long_exit'] ,-1, mtf_df['signal'])\n",
    "mtf_df.head()"
   ]
  },
  {
   "cell_type": "code",
   "execution_count": null,
   "metadata": {},
   "outputs": [],
   "source": [
    "long_entries = mtf_df.signal == 1.0\n",
    "long_exits = mtf_df.signal == -1.0\n",
    "\n",
    "mtf_df['short_entries'] = short_entries = long_exits\n",
    "mtf_df['short_exits'] = short_exits = long_entries"
   ]
  },
  {
   "cell_type": "markdown",
   "metadata": {},
   "source": [
    "**Resample `entries` and `exits` from `5m` to `H4`**"
   ]
  },
  {
   "cell_type": "code",
   "execution_count": null,
   "metadata": {},
   "outputs": [],
   "source": [
    "print(long_entries.vbt.signals.total(),long_exits.vbt.signals.total(),short_entries.vbt.signals.total(), short_exits.vbt.signals.total())\n",
    "print(len(long_entries), len(long_exits), len(short_entries), len(short_exits))"
   ]
  },
  {
   "cell_type": "code",
   "execution_count": null,
   "metadata": {},
   "outputs": [],
   "source": [
    "## Clean redundant and duplicate signals\n",
    "clean_long_entries, clean_long_exits = long_entries.vbt.signals.clean(long_exits)\n",
    "clean_short_entries, clean_short_exits = short_entries.vbt.signals.clean(short_exits)"
   ]
  },
  {
   "cell_type": "code",
   "execution_count": null,
   "metadata": {},
   "outputs": [],
   "source": [
    "print(clean_long_entries.vbt.signals.total(),clean_long_exits.vbt.signals.total(), \n",
    "      clean_short_entries.vbt.signals.total(),clean_short_exits.vbt.signals.total())\n",
    "print(len(clean_long_entries), len(clean_long_exits), len(clean_short_entries), len(clean_short_exits))"
   ]
  },
  {
   "cell_type": "code",
   "execution_count": null,
   "metadata": {},
   "outputs": [],
   "source": [
    "%%time\n",
    "## Slower Method\n",
    "# h4_long_entries = long_entries.resample(\"4h\").apply(lambda array: np.any(array))\n",
    "# h4_long_exits = long_exits.resample(\"4h\").apply(lambda array: np.any(array))\n",
    "# h4_short_entries = short_entries.resample(\"4h\").apply(lambda array: np.any(array))\n",
    "# h4_short_exits = short_exits.resample(\"4h\").apply(lambda array: np.any(array))"
   ]
  },
  {
   "cell_type": "code",
   "execution_count": null,
   "metadata": {},
   "outputs": [],
   "source": [
    "%%time\n",
    "## Faster method\n",
    "h4_long_entries = long_entries.vbt.resample_apply(\"4h\", \"any\", wrap_kwargs=dict(dtype=bool))\n",
    "h4_long_exits = long_exits.vbt.resample_apply(\"4h\", \"any\", wrap_kwargs=dict(dtype=bool))\n",
    "h4_short_entries = short_entries.vbt.resample_apply(\"4h\", \"any\", wrap_kwargs=dict(dtype=bool))\n",
    "h4_short_exits = short_exits.vbt.resample_apply(\"4h\", \"any\", wrap_kwargs=dict(dtype=bool))"
   ]
  },
  {
   "cell_type": "code",
   "execution_count": null,
   "metadata": {},
   "outputs": [],
   "source": [
    "print(len(h4_long_entries),len(h4_long_exits),len(h4_short_entries),len(h4_short_exits))\n",
    "print(h4_long_entries.vbt.signals.total(),h4_long_exits.vbt.signals.total(),\n",
    "      h4_short_entries.vbt.signals.total(),h4_short_exits.vbt.signals.total())"
   ]
  },
  {
   "cell_type": "code",
   "execution_count": null,
   "metadata": {},
   "outputs": [],
   "source": [
    "clean_h4_long_entries, clean_h4_long_exits = h4_long_entries.vbt.signals.clean(h4_long_exits)\n",
    "clean_h4_short_entries, clean_h4_short_exits = h4_short_entries.vbt.signals.clean(h4_short_exits)"
   ]
  },
  {
   "cell_type": "code",
   "execution_count": null,
   "metadata": {},
   "outputs": [],
   "source": [
    "print(len(clean_h4_long_entries),len(clean_h4_long_exits),len(clean_h4_short_entries),len(clean_h4_short_exits))\n",
    "print(clean_h4_long_entries.vbt.signals.total(),clean_h4_long_exits.vbt.signals.total(), \\\n",
    "      clean_h4_short_entries.vbt.signals.total(),clean_h4_short_exits.vbt.signals.total())"
   ]
  },
  {
   "cell_type": "code",
   "execution_count": null,
   "metadata": {},
   "outputs": [],
   "source": [
    "## Combine long and short entries/exits into a single series\n",
    "entries = pd.Series(h4_long_entries.values | h4_short_entries.values, index=h4_long_entries.index) #.sort_index()#.duplicated(keep='last')\n",
    "exits = pd.Series(h4_long_exits.values | h4_short_exits.values, index = h4_long_exits.index) #.sort_index()#.duplicated(keep='last')\n",
    "print(len(entries), len(exits))\n",
    "print(entries.vbt.signals.total(),exits.vbt.signals.total())"
   ]
  },
  {
   "cell_type": "markdown",
   "metadata": {},
   "source": [
    "#### Plot Indicators\n",
    "Stage-wise plotting"
   ]
  },
  {
   "cell_type": "code",
   "execution_count": null,
   "metadata": {},
   "outputs": [],
   "source": [
    "## Global Plot Settings\n",
    "vbt.settings.set_theme(\"dark\")\n",
    "vbt.settings['plotting']['layout']['width'] = 1280"
   ]
  },
  {
   "cell_type": "code",
   "execution_count": null,
   "metadata": {},
   "outputs": [],
   "source": [
    "h4_df = h4_data.get()\n",
    "h4_df"
   ]
  },
  {
   "cell_type": "code",
   "execution_count": null,
   "metadata": {},
   "outputs": [],
   "source": [
    "## Plot OHLCV data first\n",
    "kwargs1 = {\"title_text\" : \"OHLCV Plot\", \"title_font_size\" : 18}\n",
    "h4_ohlc_sample = h4_df[[\"Open\", \"High\", \"Low\", \"Close\"]].iloc[100:200]#.dropna()\n",
    "f = h4_ohlc_sample.vbt.ohlcv.plot(**kwargs1)\n",
    "f.show()"
   ]
  },
  {
   "cell_type": "code",
   "execution_count": null,
   "metadata": {},
   "outputs": [],
   "source": [
    "kwargs1 = {\"title_text\" : \"OHLCV Plot with BBands\", \"title_font_size\" : 18}\n",
    "## child figure inherits the parent figure's style and settings from the **kwargs\n",
    "h4_bbands.iloc[100:200].plot(fig = f,\n",
    "                            lowerband_trace_kwargs=dict(fill=None, name = 'BB_Price_Lower'), \n",
    "                            upperband_trace_kwargs=dict(fill=None, name = 'BB_Price_Upper'),\n",
    "                            middleband_trace_kwargs=dict(fill=None, name = 'BB_Price_Middle')).show()\n"
   ]
  },
  {
   "cell_type": "code",
   "execution_count": null,
   "metadata": {},
   "outputs": [],
   "source": [
    "kwargs2 = {\"title_text\" : \"H4 BB_RSI\", \"title_font_size\" : 18 }\n",
    "h4_bbands_rsi.iloc[100:200].plot(xaxis=dict(rangeslider_visible=True),limits=(25, 75),\n",
    "                                lowerband_trace_kwargs=dict(fill=None, name = 'BB_RSI_Lower'),\n",
    "                                upperband_trace_kwargs=dict(fill=None, name = 'BB_RSI_Upper'),\n",
    "                                middleband_trace_kwargs=dict(fill=None, name = 'BB_RSI_Middle'),\n",
    "                                **kwargs2).show()"
   ]
  },
  {
   "cell_type": "markdown",
   "metadata": {},
   "source": [
    "#### Stacked SubPlots on sliced data"
   ]
  },
  {
   "cell_type": "code",
   "execution_count": null,
   "metadata": {},
   "outputs": [],
   "source": [
    "# retrieve the dates that are in the original datset\n",
    "dt_obs = h4_df.index.to_list()\n",
    "# Drop rows with missing values\n",
    "dt_obs_dropped = h4_df['Close'].dropna().index.to_list()\n",
    "# store  dates with missing values\n",
    "dt_breaks = [d for d in dt_obs if d not in dt_obs_dropped]\n",
    "len(dt_obs), len(dt_obs_dropped), len(dt_breaks)"
   ]
  },
  {
   "cell_type": "code",
   "execution_count": null,
   "metadata": {},
   "outputs": [],
   "source": [
    "kwargs1 = {\"title_text\" : \"H4 OHLCV with BBands on Price and RSI\", \"title_font_size\" : 18, \n",
    "           \"legend\" : dict(yanchor=\"top\",y=0.99, xanchor=\"right\",x= 0.25)}\n",
    "\n",
    "fig = vbt.make_subplots(rows=2,cols=1, shared_xaxes=True, vertical_spacing=0.1)\n",
    "\n",
    "## Sliced Data\n",
    "h4_price = h4_df[[\"Open\", \"High\", \"Low\", \"Close\"]]\n",
    "indices = slice(100,200)\n",
    "h4_price.iloc[indices].vbt.ohlcv.plot(add_trace_kwargs=dict(row=1, col=1),  fig=fig, **kwargs1) \n",
    "h4_bbands.iloc[indices].plot(add_trace_kwargs=dict(row=1, col=1),fig=fig,\n",
    "                            lowerband_trace_kwargs=dict(fill=None, name = 'BB_Price_Lower'), \n",
    "                            upperband_trace_kwargs=dict(fill=None, name = 'BB_Price_Upper'),\n",
    "                            middleband_trace_kwargs=dict(fill=None, name = 'BB_Price_Middle'))\n",
    "\n",
    "h4_rsi.iloc[indices].rename(\"RSI\").vbt.plot(add_trace_kwargs=dict(row=2, col=1),fig=fig, **kwargs1 )\n",
    "\n",
    "h4_bbands_rsi.iloc[indices].plot(add_trace_kwargs=dict(row=2, col=1),limits=(25, 75),fig=fig,\n",
    "                            lowerband_trace_kwargs=dict(fill=None, name = 'BB_RSI_Lower'), \n",
    "                            upperband_trace_kwargs=dict(fill=None, name = 'BB_RSI_Upper'),\n",
    "                            middleband_trace_kwargs=dict(fill=None, name = 'BB_RSI_Middle'),\n",
    "                            # xaxis=dict(rangeslider_visible=True) ## Without Range Slider\n",
    "                            )\n",
    "\n",
    "fig.update_xaxes(rangebreaks=[dict(values=dt_breaks)])\n",
    "fig.layout.showlegend = False\n",
    "fig.show_svg()"
   ]
  },
  {
   "cell_type": "markdown",
   "metadata": {},
   "source": [
    "**Functionize the complete plot for 2BB Strategy**"
   ]
  },
  {
   "cell_type": "code",
   "execution_count": null,
   "metadata": {},
   "outputs": [],
   "source": [
    "def stacked_2bb_rsi_plot(slice_lower : str, slice_upper: str, df : pd.DataFrame , rsi : pd.Series,\n",
    "                         bb_price : vbt.indicators.factory, bb_rsi : vbt.indicators.factory, \n",
    "                         long_entries: pd.Series, long_exits: pd.Series, \n",
    "                         short_entries: pd.Series, short_exits: pd.Series,\n",
    "                         show_legend : bool = True):\n",
    "    \"\"\"Creates a stacked indicator plot for the 2BB strategy.\n",
    "    Parameters\n",
    "    ===========\n",
    "    slice_lower : str, start date of dataframe slice in yyyy.mm.dd format\n",
    "    slice_upper : str, start date of dataframe slice in yyyy.mm.dd format\n",
    "    df          : pd.DataFrame, containing the OHLCV data\n",
    "    rsi         : pd.Series, rsi indicator time series in same freq as df\n",
    "    bb_price    : vbt.indicators.factory.talib('BBANDS'), computed on df['close'] price\n",
    "    bb_rsi      : vbt.indicators.factory.talib('BBANDS') computer on RSI\n",
    "    long_entries: pd.Series, time series data of long entries\n",
    "    long_exits  : pd.Series, time series data of long exits\n",
    "    short_entries: pd.Series, time series data of short entries\n",
    "    short_exits : pd.Series, time series data of short exits\n",
    "    show_legend : bool, switch to show or completely hide the legend box on the plot\n",
    "    \n",
    "    Returns\n",
    "    =======\n",
    "    fig         : plotly figure object\n",
    "    \"\"\"\n",
    "    kwargs1 = {\"title_text\" : \"H4 OHLCV with BBands on Price and RSI\", \n",
    "               \"title_font_size\" : 18,\n",
    "               \"height\" : 960,\n",
    "               \"legend\" : dict(yanchor=\"top\",y=0.99, xanchor=\"right\",x= 0.1)}\n",
    "    fig = vbt.make_subplots(rows=2,cols=1, shared_xaxes=True, vertical_spacing=0.1)\n",
    "    ## Filter Data according to date slice\n",
    "    df_slice = df[[\"Open\", \"High\", \"Low\", \"Close\"]][slice_lower : slice_upper]\n",
    "    bb_price = bb_price[slice_lower : slice_upper]\n",
    "    rsi = rsi[slice_lower : slice_upper]\n",
    "    bb_rsi = bb_rsi[slice_lower : slice_upper]\n",
    "    long_entries = long_entries[slice_lower : slice_upper]\n",
    "    long_exits = long_exits[slice_lower : slice_upper]\n",
    "    short_entries = short_entries[slice_lower : slice_upper]\n",
    "    short_exits = short_exits[slice_lower : slice_upper]    \n",
    "\n",
    "    ## Retrieve datetime index of rows where price data is NULL\n",
    "    # retrieve the dates that are in the original datset\n",
    "    dt_obs = df_slice.index.to_list()\n",
    "    # Drop rows with missing values\n",
    "    dt_obs_dropped = df_slice['Close'].dropna().index.to_list()\n",
    "    # store  dates with missing values\n",
    "    dt_breaks = [d for d in dt_obs if d not in dt_obs_dropped]\n",
    "\n",
    "    ## Plot Figures\n",
    "    df_slice.vbt.ohlcv.plot(add_trace_kwargs=dict(row=1, col=1),  fig=fig, **kwargs1) ## Without Range Slider\n",
    "    rsi.rename(\"RSI\").vbt.plot(add_trace_kwargs=dict(row=2, col=1), trace_kwargs = dict(connectgaps=True), fig=fig, **kwargs1 ) \n",
    "\n",
    "    bb_price.plot(add_trace_kwargs=dict(row=1, col=1),fig=fig, **kwargs1,\n",
    "                    lowerband_trace_kwargs=dict(fill=None, name = 'BB_Price_Lower', connectgaps=True), \n",
    "                    upperband_trace_kwargs=dict(fill=None, name = 'BB_Price_Upper', connectgaps=True),\n",
    "                    middleband_trace_kwargs=dict(fill=None, name = 'BB_Price_Middle', connectgaps=True) )\n",
    "\n",
    "    bb_rsi.plot(add_trace_kwargs=dict(row=2, col=1),limits=(25, 75),fig=fig,\n",
    "                lowerband_trace_kwargs=dict(fill=None, name = 'BB_RSI_Lower', connectgaps=True), \n",
    "                upperband_trace_kwargs=dict(fill=None, name = 'BB_RSI_Upper', connectgaps=True),\n",
    "                middleband_trace_kwargs=dict(fill=None, name = 'BB_RSI_Middle', connectgaps=True))\n",
    "\n",
    "    ## Add Long Entries and Long Exits\n",
    "    long_entries.vbt.signals.plot_as_entries(bb_price.lowerband,fig=fig,\n",
    "                                            trace_kwargs=dict(marker=dict(color=\"limegreen\"), \n",
    "                                                              name=\"Long entries\")\n",
    "                                            )\n",
    "    long_exits.vbt.signals.plot_as_exits(bb_price.upperband, fig = fig,\n",
    "                                        trace_kwargs=dict(marker=dict(color=\"red\"), \n",
    "                                                          name=\"Long exits\"), \n",
    "                                        )\n",
    "    long_entries.vbt.signals.plot_as_entries(bb_rsi.lowerband, fig = fig,\n",
    "                                             add_trace_kwargs=dict(row=2, col=1),\n",
    "                                             trace_kwargs=dict(marker=dict(color=\"limegreen\"),\n",
    "                                                               showlegend = False))  \n",
    "\n",
    "    long_exits.vbt.signals.plot_as_exits(bb_rsi.upperband, fig = fig,showlegend = False,\n",
    "                                         add_trace_kwargs=dict(row=2, col=1),\n",
    "                                         trace_kwargs=dict(marker=dict(color=\"red\"),\n",
    "                                                           showlegend = False))\n",
    "\n",
    "    ## Add Short Entries and Short Exits\n",
    "    shot_entry_marker_style = dict(color=\"lightgreen\",symbol=\"circle-open\",size = 15)\n",
    "    short_exit_marker_style = dict(color=\"lightpink\", symbol=\"circle-open\", size = 15)\n",
    "    \n",
    "    short_entries.vbt.signals.plot_as_entries(bb_price.upperband, fig=fig,\n",
    "                                              trace_kwargs=dict(name=\"Short entries\",\n",
    "                                                                marker=shot_entry_marker_style,\n",
    "                                              ))\n",
    "    short_exits.vbt.signals.plot_as_exits(bb_price.lowerband, fig = fig,\n",
    "                                          trace_kwargs=dict(name=\"Short exits\",\n",
    "                                                            marker=short_exit_marker_style,\n",
    "                                          ))\n",
    "    short_entries.vbt.signals.plot_as_entries(bb_rsi.upperband, fig = fig,\n",
    "                                              add_trace_kwargs=dict(row=2, col=1),\n",
    "                                              trace_kwargs=dict(marker = shot_entry_marker_style,\n",
    "                                                                showlegend = False)\n",
    "                                              )  \n",
    "                                                \n",
    "    short_exits.vbt.signals.plot_as_exits(bb_rsi.lowerband,fig = fig,\n",
    "                                          add_trace_kwargs=dict(row=2, col=1),\n",
    "                                          trace_kwargs=dict(marker = short_exit_marker_style,\n",
    "                                                            showlegend = False)\n",
    "                                          )      \n",
    "\n",
    "    fig.update_xaxes(rangebreaks=[dict(values=dt_breaks)])\n",
    "    fig.layout.showlegend = show_legend  \n",
    "    fig.write_html(f\"2BB_Strategy_{slice_lower}_to_{slice_upper}.html\")\n",
    "    \n",
    "    return fig"
   ]
  },
  {
   "cell_type": "code",
   "execution_count": null,
   "metadata": {},
   "outputs": [],
   "source": [
    "slice_lower = '2019.10.01'\n",
    "slice_higher = '2019.10.30'\n",
    "fig = stacked_2bb_rsi_plot(slice_lower, slice_higher, h4_df, h4_rsi, \n",
    "                           h4_bbands, h4_bbands_rsi, \n",
    "                           clean_h4_long_entries, clean_h4_long_exits, \n",
    "                           clean_h4_short_entries, clean_h4_short_exits,\n",
    "                           show_legend = True)\n",
    "fig.show()"
   ]
  },
  {
   "cell_type": "markdown",
   "metadata": {},
   "source": [
    "### Create Backtest Simulation for 2BB Strategy using `vbt.Portfolio.from_signals()`"
   ]
  },
  {
   "cell_type": "code",
   "execution_count": null,
   "metadata": {},
   "outputs": [],
   "source": [
    "pf_2_bb_custom = vbt.Portfolio.from_signals(\n",
    "    mtf_df['m5_close'], \n",
    "    entries=long_entries, \n",
    "    exits=long_exits, \n",
    "    short_entries=short_entries, \n",
    "    short_exits=short_exits, \n",
    "    freq=pd.Timedelta(minutes=5), \n",
    "    init_cash=100000\n",
    ")"
   ]
  },
  {
   "cell_type": "code",
   "execution_count": null,
   "metadata": {},
   "outputs": [],
   "source": [
    "pf_2_bb_custom.stats()"
   ]
  },
  {
   "cell_type": "code",
   "execution_count": null,
   "metadata": {},
   "outputs": [],
   "source": [
    "# pf_2_bb_custom.plot().show() ## This takes too long (30 secs) as it uses 5m timeframe\n",
    "pf_2_bb_custom.resample(\"1d\").plot().show()"
   ]
  },
  {
   "cell_type": "code",
   "execution_count": null,
   "metadata": {},
   "outputs": [],
   "source": [
    "# pf_2_bb_custom.orders.plot(xaxis=dict(rangeslider_visible=True),**kwargs1).show()\n",
    "pf_2_bb_custom.orders.resample(\"1d\").plot(xaxis=dict(rangeslider_visible=True),**kwargs1).show()"
   ]
  },
  {
   "cell_type": "code",
   "execution_count": null,
   "metadata": {},
   "outputs": [],
   "source": [
    "## Simple line plots seem to be using matplotlib\n",
    "pf_2_bb_custom.trades.records_readable.PnL.cumsum().plot()"
   ]
  },
  {
   "cell_type": "code",
   "execution_count": null,
   "metadata": {},
   "outputs": [],
   "source": [
    "pf_2_bb_custom.positions.records_readable"
   ]
  },
  {
   "cell_type": "code",
   "execution_count": null,
   "metadata": {},
   "outputs": [],
   "source": [
    "pf_2_bb_custom.trades.records_readable"
   ]
  },
  {
   "cell_type": "code",
   "execution_count": null,
   "metadata": {},
   "outputs": [],
   "source": [
    "pnl_series = pf_2_bb_custom.trades.pnl.to_pd()\n",
    "pnl_series[pnl_series.notna()]"
   ]
  },
  {
   "cell_type": "code",
   "execution_count": null,
   "metadata": {},
   "outputs": [],
   "source": [
    "signal = mtf_df['signal'].copy()\n",
    "signal.loc[clean_long_entries] = 2\n",
    "signal.loc[clean_long_exits] = 1\n",
    "signal.loc[clean_short_entries] = -2\n",
    "signal.loc[clean_short_exits] = -1"
   ]
  },
  {
   "cell_type": "code",
   "execution_count": null,
   "metadata": {},
   "outputs": [],
   "source": [
    "mtf_df.signal[mtf_df['signal'] != 0]"
   ]
  },
  {
   "cell_type": "code",
   "execution_count": null,
   "metadata": {},
   "outputs": [],
   "source": [
    "signal[signal != 0]"
   ]
  },
  {
   "cell_type": "code",
   "execution_count": null,
   "metadata": {},
   "outputs": [],
   "source": [
    "mtf_df['cleaned_signal'] = signal"
   ]
  },
  {
   "cell_type": "code",
   "execution_count": null,
   "metadata": {},
   "outputs": [],
   "source": [
    "mtf_df[\"signal\"].equals(mtf_df['cleaned_signal'])"
   ]
  },
  {
   "cell_type": "code",
   "execution_count": null,
   "metadata": {},
   "outputs": [],
   "source": [
    "mtf_df[\"pnl\"] = pnl_series\n",
    "mtf_df"
   ]
  },
  {
   "cell_type": "code",
   "execution_count": null,
   "metadata": {},
   "outputs": [],
   "source": [
    "mtf_df.to_csv(\"2BB_Final_Simulation.csv\", index = False)"
   ]
  },
  {
   "cell_type": "code",
   "execution_count": null,
   "metadata": {},
   "outputs": [],
   "source": [
    "mtf_df.columns"
   ]
  },
  {
   "cell_type": "markdown",
   "metadata": {},
   "source": [
    "**TODO**\n",
    "* Can we add dotted lines in the plot to connect an entry and exit of a trade order?\n",
    "* How to access floating equity and balance after the simulation or it the same as `PnL`?\n",
    "* What other type of order analytics can we do to make this notebook more complete / informative?"
   ]
  },
  {
   "cell_type": "markdown",
   "metadata": {},
   "source": []
  }
 ],
 "metadata": {
  "kernelspec": {
   "display_name": "Python 3.10.6 ('vbt')",
   "language": "python",
   "name": "python3"
  },
  "language_info": {
   "codemirror_mode": {
    "name": "ipython",
    "version": 3
   },
   "file_extension": ".py",
   "mimetype": "text/x-python",
   "name": "python",
   "nbconvert_exporter": "python",
   "pygments_lexer": "ipython3",
   "version": "3.10.6"
  },
  "orig_nbformat": 4,
  "vscode": {
   "interpreter": {
    "hash": "553d3b352623cb609a2efe4df91242fdc89d5ebcee56d9279e2aa2c11b529c13"
   }
  }
 },
 "nbformat": 4,
 "nbformat_minor": 2
}
